{
 "cells": [
  {
   "cell_type": "markdown",
   "id": "247d1ce1",
   "metadata": {},
   "source": [
    "# ------------------------ VEHICLE PRICE PREDICTION MODEL -----------------------"
   ]
  },
  {
   "cell_type": "markdown",
   "id": "3fdab625",
   "metadata": {},
   "source": [
    "### ---------------IMPORTS AND READING IN DATA---------------"
   ]
  },
  {
   "cell_type": "markdown",
   "id": "5abee032",
   "metadata": {},
   "source": [
    "First we'll need to import some libraries that will be used during the creation of this prediction model.\n",
    "\n",
    "    -numpy is used to support pandas in creating arrays and matrices.\n",
    "    \n",
    "    -pandas is used to create DataFrames and load in our CSV data for use. \n",
    "    \n",
    "    -matplotlib is used to visualize our data via a good number of plotting tools (histogram,heatmap,bargraph,boxplot,etc).\n",
    "    \n",
    "    -seaborn is used in the same way that matplotlib is used but is more user friendly and easier to use. \n",
    "    \n",
    "    -ipywidgets is used to make the Jupyter Notebook environment more interactable via buttons, sliders, etc. \n",
    "    \n",
    "    -scipy is used to help create our supervised machine learning model. In this case it's Linear Regression. "
   ]
  },
  {
   "cell_type": "code",
   "execution_count": 1,
   "id": "43d2a0d0",
   "metadata": {},
   "outputs": [],
   "source": [
    "import numpy as np\n",
    "import pandas as pd\n",
    "import matplotlib.pyplot as plt\n",
    "import seaborn as sns\n",
    "import ipywidgets as widgets\n",
    "from scipy import stats\n",
    "from IPython.display import display\n",
    "\n",
    "# import plotly as py\n",
    "%matplotlib inline"
   ]
  },
  {
   "cell_type": "markdown",
   "id": "f495bfc3",
   "metadata": {},
   "source": [
    "-------------------------------------------------------------------------------------------------------------------------------\n",
    "Now using the pandas library, we read in our CSV file full of data for future use. Note that this data is NOT cleaned. "
   ]
  },
  {
   "cell_type": "code",
   "execution_count": 2,
   "id": "4578395e",
   "metadata": {},
   "outputs": [],
   "source": [
    "myCSV = pd.read_csv(\"scrap price.csv\")\n",
    "sns.set_palette(\"GnBu_d\")\n",
    "sns.set_style(\"whitegrid\")"
   ]
  },
  {
   "cell_type": "markdown",
   "id": "4d666709",
   "metadata": {},
   "source": [
    "### ---------------INFORMATION GATHERING---------------"
   ]
  },
  {
   "cell_type": "markdown",
   "id": "80e58424",
   "metadata": {},
   "source": [
    "Now we will gather some important information about the data that will be useful to know."
   ]
  },
  {
   "cell_type": "code",
   "execution_count": 3,
   "id": "55581671",
   "metadata": {},
   "outputs": [
    {
     "data": {
      "text/html": [
       "<div>\n",
       "<style scoped>\n",
       "    .dataframe tbody tr th:only-of-type {\n",
       "        vertical-align: middle;\n",
       "    }\n",
       "\n",
       "    .dataframe tbody tr th {\n",
       "        vertical-align: top;\n",
       "    }\n",
       "\n",
       "    .dataframe thead th {\n",
       "        text-align: right;\n",
       "    }\n",
       "</style>\n",
       "<table border=\"1\" class=\"dataframe\">\n",
       "  <thead>\n",
       "    <tr style=\"text-align: right;\">\n",
       "      <th></th>\n",
       "      <th>ID</th>\n",
       "      <th>symboling</th>\n",
       "      <th>name</th>\n",
       "      <th>fueltypes</th>\n",
       "      <th>aspiration</th>\n",
       "      <th>doornumbers</th>\n",
       "      <th>carbody</th>\n",
       "      <th>drivewheels</th>\n",
       "      <th>enginelocation</th>\n",
       "      <th>wheelbase</th>\n",
       "      <th>...</th>\n",
       "      <th>enginesize</th>\n",
       "      <th>fuelsystem</th>\n",
       "      <th>boreratio</th>\n",
       "      <th>stroke</th>\n",
       "      <th>compressionratio</th>\n",
       "      <th>horsepower</th>\n",
       "      <th>peakrpm</th>\n",
       "      <th>citympg</th>\n",
       "      <th>highwaympg</th>\n",
       "      <th>price</th>\n",
       "    </tr>\n",
       "  </thead>\n",
       "  <tbody>\n",
       "    <tr>\n",
       "      <th>0</th>\n",
       "      <td>1</td>\n",
       "      <td>3</td>\n",
       "      <td>alfa-romero giulia</td>\n",
       "      <td>gas</td>\n",
       "      <td>std</td>\n",
       "      <td>two</td>\n",
       "      <td>convertible</td>\n",
       "      <td>rwd</td>\n",
       "      <td>front</td>\n",
       "      <td>88.6</td>\n",
       "      <td>...</td>\n",
       "      <td>130</td>\n",
       "      <td>mpfi</td>\n",
       "      <td>3.47</td>\n",
       "      <td>2.68</td>\n",
       "      <td>9.0</td>\n",
       "      <td>111</td>\n",
       "      <td>5000</td>\n",
       "      <td>21</td>\n",
       "      <td>27</td>\n",
       "      <td>13495.0</td>\n",
       "    </tr>\n",
       "    <tr>\n",
       "      <th>1</th>\n",
       "      <td>2</td>\n",
       "      <td>3</td>\n",
       "      <td>alfa-romero stelvio</td>\n",
       "      <td>gas</td>\n",
       "      <td>std</td>\n",
       "      <td>two</td>\n",
       "      <td>convertible</td>\n",
       "      <td>rwd</td>\n",
       "      <td>front</td>\n",
       "      <td>88.6</td>\n",
       "      <td>...</td>\n",
       "      <td>130</td>\n",
       "      <td>mpfi</td>\n",
       "      <td>3.47</td>\n",
       "      <td>2.68</td>\n",
       "      <td>9.0</td>\n",
       "      <td>111</td>\n",
       "      <td>5000</td>\n",
       "      <td>21</td>\n",
       "      <td>27</td>\n",
       "      <td>16500.0</td>\n",
       "    </tr>\n",
       "    <tr>\n",
       "      <th>2</th>\n",
       "      <td>3</td>\n",
       "      <td>1</td>\n",
       "      <td>alfa-romero Quadrifoglio</td>\n",
       "      <td>gas</td>\n",
       "      <td>std</td>\n",
       "      <td>two</td>\n",
       "      <td>hatchback</td>\n",
       "      <td>rwd</td>\n",
       "      <td>front</td>\n",
       "      <td>94.5</td>\n",
       "      <td>...</td>\n",
       "      <td>152</td>\n",
       "      <td>mpfi</td>\n",
       "      <td>2.68</td>\n",
       "      <td>3.47</td>\n",
       "      <td>9.0</td>\n",
       "      <td>154</td>\n",
       "      <td>5000</td>\n",
       "      <td>19</td>\n",
       "      <td>26</td>\n",
       "      <td>16500.0</td>\n",
       "    </tr>\n",
       "    <tr>\n",
       "      <th>3</th>\n",
       "      <td>4</td>\n",
       "      <td>2</td>\n",
       "      <td>audi 100 ls</td>\n",
       "      <td>gas</td>\n",
       "      <td>std</td>\n",
       "      <td>four</td>\n",
       "      <td>sedan</td>\n",
       "      <td>fwd</td>\n",
       "      <td>front</td>\n",
       "      <td>99.8</td>\n",
       "      <td>...</td>\n",
       "      <td>109</td>\n",
       "      <td>mpfi</td>\n",
       "      <td>3.19</td>\n",
       "      <td>3.40</td>\n",
       "      <td>10.0</td>\n",
       "      <td>102</td>\n",
       "      <td>5500</td>\n",
       "      <td>24</td>\n",
       "      <td>30</td>\n",
       "      <td>13950.0</td>\n",
       "    </tr>\n",
       "    <tr>\n",
       "      <th>4</th>\n",
       "      <td>5</td>\n",
       "      <td>2</td>\n",
       "      <td>audi 100ls</td>\n",
       "      <td>gas</td>\n",
       "      <td>std</td>\n",
       "      <td>four</td>\n",
       "      <td>sedan</td>\n",
       "      <td>4wd</td>\n",
       "      <td>front</td>\n",
       "      <td>99.4</td>\n",
       "      <td>...</td>\n",
       "      <td>136</td>\n",
       "      <td>mpfi</td>\n",
       "      <td>3.19</td>\n",
       "      <td>3.40</td>\n",
       "      <td>8.0</td>\n",
       "      <td>115</td>\n",
       "      <td>5500</td>\n",
       "      <td>18</td>\n",
       "      <td>22</td>\n",
       "      <td>17450.0</td>\n",
       "    </tr>\n",
       "    <tr>\n",
       "      <th>...</th>\n",
       "      <td>...</td>\n",
       "      <td>...</td>\n",
       "      <td>...</td>\n",
       "      <td>...</td>\n",
       "      <td>...</td>\n",
       "      <td>...</td>\n",
       "      <td>...</td>\n",
       "      <td>...</td>\n",
       "      <td>...</td>\n",
       "      <td>...</td>\n",
       "      <td>...</td>\n",
       "      <td>...</td>\n",
       "      <td>...</td>\n",
       "      <td>...</td>\n",
       "      <td>...</td>\n",
       "      <td>...</td>\n",
       "      <td>...</td>\n",
       "      <td>...</td>\n",
       "      <td>...</td>\n",
       "      <td>...</td>\n",
       "      <td>...</td>\n",
       "    </tr>\n",
       "    <tr>\n",
       "      <th>200</th>\n",
       "      <td>201</td>\n",
       "      <td>-1</td>\n",
       "      <td>volvo 145e (sw)</td>\n",
       "      <td>gas</td>\n",
       "      <td>std</td>\n",
       "      <td>four</td>\n",
       "      <td>sedan</td>\n",
       "      <td>rwd</td>\n",
       "      <td>front</td>\n",
       "      <td>109.1</td>\n",
       "      <td>...</td>\n",
       "      <td>141</td>\n",
       "      <td>mpfi</td>\n",
       "      <td>3.78</td>\n",
       "      <td>3.15</td>\n",
       "      <td>9.5</td>\n",
       "      <td>114</td>\n",
       "      <td>5400</td>\n",
       "      <td>23</td>\n",
       "      <td>28</td>\n",
       "      <td>16845.0</td>\n",
       "    </tr>\n",
       "    <tr>\n",
       "      <th>201</th>\n",
       "      <td>202</td>\n",
       "      <td>-1</td>\n",
       "      <td>volvo 144ea</td>\n",
       "      <td>gas</td>\n",
       "      <td>turbo</td>\n",
       "      <td>four</td>\n",
       "      <td>sedan</td>\n",
       "      <td>rwd</td>\n",
       "      <td>front</td>\n",
       "      <td>109.1</td>\n",
       "      <td>...</td>\n",
       "      <td>141</td>\n",
       "      <td>mpfi</td>\n",
       "      <td>3.78</td>\n",
       "      <td>3.15</td>\n",
       "      <td>8.7</td>\n",
       "      <td>160</td>\n",
       "      <td>5300</td>\n",
       "      <td>19</td>\n",
       "      <td>25</td>\n",
       "      <td>19045.0</td>\n",
       "    </tr>\n",
       "    <tr>\n",
       "      <th>202</th>\n",
       "      <td>203</td>\n",
       "      <td>-1</td>\n",
       "      <td>volvo 244dl</td>\n",
       "      <td>gas</td>\n",
       "      <td>std</td>\n",
       "      <td>four</td>\n",
       "      <td>sedan</td>\n",
       "      <td>rwd</td>\n",
       "      <td>front</td>\n",
       "      <td>109.1</td>\n",
       "      <td>...</td>\n",
       "      <td>173</td>\n",
       "      <td>mpfi</td>\n",
       "      <td>3.58</td>\n",
       "      <td>2.87</td>\n",
       "      <td>8.8</td>\n",
       "      <td>134</td>\n",
       "      <td>5500</td>\n",
       "      <td>18</td>\n",
       "      <td>23</td>\n",
       "      <td>21485.0</td>\n",
       "    </tr>\n",
       "    <tr>\n",
       "      <th>203</th>\n",
       "      <td>204</td>\n",
       "      <td>-1</td>\n",
       "      <td>volvo 246</td>\n",
       "      <td>diesel</td>\n",
       "      <td>turbo</td>\n",
       "      <td>four</td>\n",
       "      <td>sedan</td>\n",
       "      <td>rwd</td>\n",
       "      <td>front</td>\n",
       "      <td>109.1</td>\n",
       "      <td>...</td>\n",
       "      <td>145</td>\n",
       "      <td>idi</td>\n",
       "      <td>3.01</td>\n",
       "      <td>3.40</td>\n",
       "      <td>23.0</td>\n",
       "      <td>106</td>\n",
       "      <td>4800</td>\n",
       "      <td>26</td>\n",
       "      <td>27</td>\n",
       "      <td>22470.0</td>\n",
       "    </tr>\n",
       "    <tr>\n",
       "      <th>204</th>\n",
       "      <td>205</td>\n",
       "      <td>-1</td>\n",
       "      <td>volvo 264gl</td>\n",
       "      <td>gas</td>\n",
       "      <td>turbo</td>\n",
       "      <td>four</td>\n",
       "      <td>sedan</td>\n",
       "      <td>rwd</td>\n",
       "      <td>front</td>\n",
       "      <td>109.1</td>\n",
       "      <td>...</td>\n",
       "      <td>141</td>\n",
       "      <td>mpfi</td>\n",
       "      <td>3.78</td>\n",
       "      <td>3.15</td>\n",
       "      <td>9.5</td>\n",
       "      <td>114</td>\n",
       "      <td>5400</td>\n",
       "      <td>19</td>\n",
       "      <td>25</td>\n",
       "      <td>22625.0</td>\n",
       "    </tr>\n",
       "  </tbody>\n",
       "</table>\n",
       "<p>205 rows × 26 columns</p>\n",
       "</div>"
      ],
      "text/plain": [
       "      ID  symboling                      name fueltypes aspiration  \\\n",
       "0      1          3        alfa-romero giulia       gas        std   \n",
       "1      2          3       alfa-romero stelvio       gas        std   \n",
       "2      3          1  alfa-romero Quadrifoglio       gas        std   \n",
       "3      4          2               audi 100 ls       gas        std   \n",
       "4      5          2                audi 100ls       gas        std   \n",
       "..   ...        ...                       ...       ...        ...   \n",
       "200  201         -1           volvo 145e (sw)       gas        std   \n",
       "201  202         -1               volvo 144ea       gas      turbo   \n",
       "202  203         -1               volvo 244dl       gas        std   \n",
       "203  204         -1                 volvo 246    diesel      turbo   \n",
       "204  205         -1               volvo 264gl       gas      turbo   \n",
       "\n",
       "    doornumbers      carbody drivewheels enginelocation  wheelbase  ...  \\\n",
       "0           two  convertible         rwd          front       88.6  ...   \n",
       "1           two  convertible         rwd          front       88.6  ...   \n",
       "2           two    hatchback         rwd          front       94.5  ...   \n",
       "3          four        sedan         fwd          front       99.8  ...   \n",
       "4          four        sedan         4wd          front       99.4  ...   \n",
       "..          ...          ...         ...            ...        ...  ...   \n",
       "200        four        sedan         rwd          front      109.1  ...   \n",
       "201        four        sedan         rwd          front      109.1  ...   \n",
       "202        four        sedan         rwd          front      109.1  ...   \n",
       "203        four        sedan         rwd          front      109.1  ...   \n",
       "204        four        sedan         rwd          front      109.1  ...   \n",
       "\n",
       "     enginesize  fuelsystem  boreratio  stroke compressionratio horsepower  \\\n",
       "0           130        mpfi       3.47    2.68              9.0        111   \n",
       "1           130        mpfi       3.47    2.68              9.0        111   \n",
       "2           152        mpfi       2.68    3.47              9.0        154   \n",
       "3           109        mpfi       3.19    3.40             10.0        102   \n",
       "4           136        mpfi       3.19    3.40              8.0        115   \n",
       "..          ...         ...        ...     ...              ...        ...   \n",
       "200         141        mpfi       3.78    3.15              9.5        114   \n",
       "201         141        mpfi       3.78    3.15              8.7        160   \n",
       "202         173        mpfi       3.58    2.87              8.8        134   \n",
       "203         145         idi       3.01    3.40             23.0        106   \n",
       "204         141        mpfi       3.78    3.15              9.5        114   \n",
       "\n",
       "     peakrpm citympg  highwaympg    price  \n",
       "0       5000      21          27  13495.0  \n",
       "1       5000      21          27  16500.0  \n",
       "2       5000      19          26  16500.0  \n",
       "3       5500      24          30  13950.0  \n",
       "4       5500      18          22  17450.0  \n",
       "..       ...     ...         ...      ...  \n",
       "200     5400      23          28  16845.0  \n",
       "201     5300      19          25  19045.0  \n",
       "202     5500      18          23  21485.0  \n",
       "203     4800      26          27  22470.0  \n",
       "204     5400      19          25  22625.0  \n",
       "\n",
       "[205 rows x 26 columns]"
      ]
     },
     "execution_count": 3,
     "metadata": {},
     "output_type": "execute_result"
    }
   ],
   "source": [
    "myCSV"
   ]
  },
  {
   "cell_type": "markdown",
   "id": "a712afa1",
   "metadata": {},
   "source": [
    "Looking at the data, we have 205 rows and 26 columns. "
   ]
  },
  {
   "cell_type": "markdown",
   "id": "5dcde01a",
   "metadata": {},
   "source": [
    "-------------------------------------------------------------------------------------------------------------------------------\n",
    "\".info()\" will check to see if there are any NULL values in the DataFrame, as well as show every columns DataType. "
   ]
  },
  {
   "cell_type": "code",
   "execution_count": 4,
   "id": "36127e38",
   "metadata": {},
   "outputs": [
    {
     "name": "stdout",
     "output_type": "stream",
     "text": [
      "<class 'pandas.core.frame.DataFrame'>\n",
      "RangeIndex: 205 entries, 0 to 204\n",
      "Data columns (total 26 columns):\n",
      " #   Column            Non-Null Count  Dtype  \n",
      "---  ------            --------------  -----  \n",
      " 0   ID                205 non-null    int64  \n",
      " 1   symboling         205 non-null    int64  \n",
      " 2   name              205 non-null    object \n",
      " 3   fueltypes         205 non-null    object \n",
      " 4   aspiration        205 non-null    object \n",
      " 5   doornumbers       205 non-null    object \n",
      " 6   carbody           205 non-null    object \n",
      " 7   drivewheels       205 non-null    object \n",
      " 8   enginelocation    205 non-null    object \n",
      " 9   wheelbase         205 non-null    float64\n",
      " 10  carlength         205 non-null    float64\n",
      " 11  carwidth          205 non-null    float64\n",
      " 12  carheight         205 non-null    float64\n",
      " 13  curbweight        205 non-null    int64  \n",
      " 14  enginetype        205 non-null    object \n",
      " 15  cylindernumber    205 non-null    object \n",
      " 16  enginesize        205 non-null    int64  \n",
      " 17  fuelsystem        205 non-null    object \n",
      " 18  boreratio         205 non-null    float64\n",
      " 19  stroke            205 non-null    float64\n",
      " 20  compressionratio  205 non-null    float64\n",
      " 21  horsepower        205 non-null    int64  \n",
      " 22  peakrpm           205 non-null    int64  \n",
      " 23  citympg           205 non-null    int64  \n",
      " 24  highwaympg        205 non-null    int64  \n",
      " 25  price             205 non-null    float64\n",
      "dtypes: float64(8), int64(8), object(10)\n",
      "memory usage: 41.8+ KB\n"
     ]
    }
   ],
   "source": [
    "myCSV.info()"
   ]
  },
  {
   "cell_type": "markdown",
   "id": "29a7cfe9",
   "metadata": {},
   "source": [
    "-------------------------------------------------------------------------------------------------------------------------------\n",
    "\".describe()\" will return important mathemetical information about each NUMERIC column (NOT CATEGORICAL/OBJECT COLUMNS)."
   ]
  },
  {
   "cell_type": "code",
   "execution_count": 5,
   "id": "26866ff2",
   "metadata": {},
   "outputs": [
    {
     "data": {
      "text/html": [
       "<div>\n",
       "<style scoped>\n",
       "    .dataframe tbody tr th:only-of-type {\n",
       "        vertical-align: middle;\n",
       "    }\n",
       "\n",
       "    .dataframe tbody tr th {\n",
       "        vertical-align: top;\n",
       "    }\n",
       "\n",
       "    .dataframe thead th {\n",
       "        text-align: right;\n",
       "    }\n",
       "</style>\n",
       "<table border=\"1\" class=\"dataframe\">\n",
       "  <thead>\n",
       "    <tr style=\"text-align: right;\">\n",
       "      <th></th>\n",
       "      <th>ID</th>\n",
       "      <th>symboling</th>\n",
       "      <th>wheelbase</th>\n",
       "      <th>carlength</th>\n",
       "      <th>carwidth</th>\n",
       "      <th>carheight</th>\n",
       "      <th>curbweight</th>\n",
       "      <th>enginesize</th>\n",
       "      <th>boreratio</th>\n",
       "      <th>stroke</th>\n",
       "      <th>compressionratio</th>\n",
       "      <th>horsepower</th>\n",
       "      <th>peakrpm</th>\n",
       "      <th>citympg</th>\n",
       "      <th>highwaympg</th>\n",
       "      <th>price</th>\n",
       "    </tr>\n",
       "  </thead>\n",
       "  <tbody>\n",
       "    <tr>\n",
       "      <th>count</th>\n",
       "      <td>205.000000</td>\n",
       "      <td>205.000000</td>\n",
       "      <td>205.000000</td>\n",
       "      <td>205.000000</td>\n",
       "      <td>205.000000</td>\n",
       "      <td>205.000000</td>\n",
       "      <td>205.000000</td>\n",
       "      <td>205.000000</td>\n",
       "      <td>205.000000</td>\n",
       "      <td>205.000000</td>\n",
       "      <td>205.000000</td>\n",
       "      <td>205.000000</td>\n",
       "      <td>205.000000</td>\n",
       "      <td>205.000000</td>\n",
       "      <td>205.000000</td>\n",
       "      <td>205.000000</td>\n",
       "    </tr>\n",
       "    <tr>\n",
       "      <th>mean</th>\n",
       "      <td>103.000000</td>\n",
       "      <td>0.834146</td>\n",
       "      <td>98.756585</td>\n",
       "      <td>174.049268</td>\n",
       "      <td>65.907805</td>\n",
       "      <td>53.724878</td>\n",
       "      <td>2555.565854</td>\n",
       "      <td>126.907317</td>\n",
       "      <td>3.329756</td>\n",
       "      <td>3.255415</td>\n",
       "      <td>10.142537</td>\n",
       "      <td>104.117073</td>\n",
       "      <td>5125.121951</td>\n",
       "      <td>25.219512</td>\n",
       "      <td>30.751220</td>\n",
       "      <td>13276.710571</td>\n",
       "    </tr>\n",
       "    <tr>\n",
       "      <th>std</th>\n",
       "      <td>59.322565</td>\n",
       "      <td>1.245307</td>\n",
       "      <td>6.021776</td>\n",
       "      <td>12.337289</td>\n",
       "      <td>2.145204</td>\n",
       "      <td>2.443522</td>\n",
       "      <td>520.680204</td>\n",
       "      <td>41.642693</td>\n",
       "      <td>0.270844</td>\n",
       "      <td>0.313597</td>\n",
       "      <td>3.972040</td>\n",
       "      <td>39.544167</td>\n",
       "      <td>476.985643</td>\n",
       "      <td>6.542142</td>\n",
       "      <td>6.886443</td>\n",
       "      <td>7988.852332</td>\n",
       "    </tr>\n",
       "    <tr>\n",
       "      <th>min</th>\n",
       "      <td>1.000000</td>\n",
       "      <td>-2.000000</td>\n",
       "      <td>86.600000</td>\n",
       "      <td>141.100000</td>\n",
       "      <td>60.300000</td>\n",
       "      <td>47.800000</td>\n",
       "      <td>1488.000000</td>\n",
       "      <td>61.000000</td>\n",
       "      <td>2.540000</td>\n",
       "      <td>2.070000</td>\n",
       "      <td>7.000000</td>\n",
       "      <td>48.000000</td>\n",
       "      <td>4150.000000</td>\n",
       "      <td>13.000000</td>\n",
       "      <td>16.000000</td>\n",
       "      <td>5118.000000</td>\n",
       "    </tr>\n",
       "    <tr>\n",
       "      <th>25%</th>\n",
       "      <td>52.000000</td>\n",
       "      <td>0.000000</td>\n",
       "      <td>94.500000</td>\n",
       "      <td>166.300000</td>\n",
       "      <td>64.100000</td>\n",
       "      <td>52.000000</td>\n",
       "      <td>2145.000000</td>\n",
       "      <td>97.000000</td>\n",
       "      <td>3.150000</td>\n",
       "      <td>3.110000</td>\n",
       "      <td>8.600000</td>\n",
       "      <td>70.000000</td>\n",
       "      <td>4800.000000</td>\n",
       "      <td>19.000000</td>\n",
       "      <td>25.000000</td>\n",
       "      <td>7788.000000</td>\n",
       "    </tr>\n",
       "    <tr>\n",
       "      <th>50%</th>\n",
       "      <td>103.000000</td>\n",
       "      <td>1.000000</td>\n",
       "      <td>97.000000</td>\n",
       "      <td>173.200000</td>\n",
       "      <td>65.500000</td>\n",
       "      <td>54.100000</td>\n",
       "      <td>2414.000000</td>\n",
       "      <td>120.000000</td>\n",
       "      <td>3.310000</td>\n",
       "      <td>3.290000</td>\n",
       "      <td>9.000000</td>\n",
       "      <td>95.000000</td>\n",
       "      <td>5200.000000</td>\n",
       "      <td>24.000000</td>\n",
       "      <td>30.000000</td>\n",
       "      <td>10295.000000</td>\n",
       "    </tr>\n",
       "    <tr>\n",
       "      <th>75%</th>\n",
       "      <td>154.000000</td>\n",
       "      <td>2.000000</td>\n",
       "      <td>102.400000</td>\n",
       "      <td>183.100000</td>\n",
       "      <td>66.900000</td>\n",
       "      <td>55.500000</td>\n",
       "      <td>2935.000000</td>\n",
       "      <td>141.000000</td>\n",
       "      <td>3.580000</td>\n",
       "      <td>3.410000</td>\n",
       "      <td>9.400000</td>\n",
       "      <td>116.000000</td>\n",
       "      <td>5500.000000</td>\n",
       "      <td>30.000000</td>\n",
       "      <td>34.000000</td>\n",
       "      <td>16503.000000</td>\n",
       "    </tr>\n",
       "    <tr>\n",
       "      <th>max</th>\n",
       "      <td>205.000000</td>\n",
       "      <td>3.000000</td>\n",
       "      <td>120.900000</td>\n",
       "      <td>208.100000</td>\n",
       "      <td>72.300000</td>\n",
       "      <td>59.800000</td>\n",
       "      <td>4066.000000</td>\n",
       "      <td>326.000000</td>\n",
       "      <td>3.940000</td>\n",
       "      <td>4.170000</td>\n",
       "      <td>23.000000</td>\n",
       "      <td>288.000000</td>\n",
       "      <td>6600.000000</td>\n",
       "      <td>49.000000</td>\n",
       "      <td>54.000000</td>\n",
       "      <td>45400.000000</td>\n",
       "    </tr>\n",
       "  </tbody>\n",
       "</table>\n",
       "</div>"
      ],
      "text/plain": [
       "               ID   symboling   wheelbase   carlength    carwidth   carheight  \\\n",
       "count  205.000000  205.000000  205.000000  205.000000  205.000000  205.000000   \n",
       "mean   103.000000    0.834146   98.756585  174.049268   65.907805   53.724878   \n",
       "std     59.322565    1.245307    6.021776   12.337289    2.145204    2.443522   \n",
       "min      1.000000   -2.000000   86.600000  141.100000   60.300000   47.800000   \n",
       "25%     52.000000    0.000000   94.500000  166.300000   64.100000   52.000000   \n",
       "50%    103.000000    1.000000   97.000000  173.200000   65.500000   54.100000   \n",
       "75%    154.000000    2.000000  102.400000  183.100000   66.900000   55.500000   \n",
       "max    205.000000    3.000000  120.900000  208.100000   72.300000   59.800000   \n",
       "\n",
       "        curbweight  enginesize   boreratio      stroke  compressionratio  \\\n",
       "count   205.000000  205.000000  205.000000  205.000000        205.000000   \n",
       "mean   2555.565854  126.907317    3.329756    3.255415         10.142537   \n",
       "std     520.680204   41.642693    0.270844    0.313597          3.972040   \n",
       "min    1488.000000   61.000000    2.540000    2.070000          7.000000   \n",
       "25%    2145.000000   97.000000    3.150000    3.110000          8.600000   \n",
       "50%    2414.000000  120.000000    3.310000    3.290000          9.000000   \n",
       "75%    2935.000000  141.000000    3.580000    3.410000          9.400000   \n",
       "max    4066.000000  326.000000    3.940000    4.170000         23.000000   \n",
       "\n",
       "       horsepower      peakrpm     citympg  highwaympg         price  \n",
       "count  205.000000   205.000000  205.000000  205.000000    205.000000  \n",
       "mean   104.117073  5125.121951   25.219512   30.751220  13276.710571  \n",
       "std     39.544167   476.985643    6.542142    6.886443   7988.852332  \n",
       "min     48.000000  4150.000000   13.000000   16.000000   5118.000000  \n",
       "25%     70.000000  4800.000000   19.000000   25.000000   7788.000000  \n",
       "50%     95.000000  5200.000000   24.000000   30.000000  10295.000000  \n",
       "75%    116.000000  5500.000000   30.000000   34.000000  16503.000000  \n",
       "max    288.000000  6600.000000   49.000000   54.000000  45400.000000  "
      ]
     },
     "execution_count": 5,
     "metadata": {},
     "output_type": "execute_result"
    }
   ],
   "source": [
    "myCSV.describe()"
   ]
  },
  {
   "cell_type": "markdown",
   "id": "f7f33c27",
   "metadata": {},
   "source": [
    "-------------------------------------------------------------------------------------------------------------------------------\n",
    "Finally, let's show the MAX/MIN values for each column "
   ]
  },
  {
   "cell_type": "code",
   "execution_count": 6,
   "id": "cc5a5ca7",
   "metadata": {},
   "outputs": [
    {
     "name": "stdout",
     "output_type": "stream",
     "text": [
      "MAX VALUES FROM THE DATAFRAME...\n",
      "\n",
      " ID                        205\n",
      "symboling                   3\n",
      "name                vw rabbit\n",
      "fueltypes                 gas\n",
      "aspiration              turbo\n",
      "doornumbers               two\n",
      "carbody                 wagon\n",
      "drivewheels               rwd\n",
      "enginelocation           rear\n",
      "wheelbase               120.9\n",
      "carlength               208.1\n",
      "carwidth                 72.3\n",
      "carheight                59.8\n",
      "curbweight               4066\n",
      "enginetype              rotor\n",
      "cylindernumber            two\n",
      "enginesize                326\n",
      "fuelsystem               spfi\n",
      "boreratio                3.94\n",
      "stroke                   4.17\n",
      "compressionratio         23.0\n",
      "horsepower                288\n",
      "peakrpm                  6600\n",
      "citympg                    49\n",
      "highwaympg                 54\n",
      "price                 45400.0\n",
      "dtype: object\n"
     ]
    }
   ],
   "source": [
    "print(\"MAX VALUES FROM THE DATAFRAME...\\n\\n\",myCSV.max())"
   ]
  },
  {
   "cell_type": "code",
   "execution_count": 7,
   "id": "92146a01",
   "metadata": {},
   "outputs": [
    {
     "name": "stdout",
     "output_type": "stream",
     "text": [
      "MIN VALUES FROM THE DATAFRAME...\n",
      "\n",
      " ID                             1\n",
      "symboling                     -2\n",
      "name                Nissan versa\n",
      "fueltypes                 diesel\n",
      "aspiration                   std\n",
      "doornumbers                 four\n",
      "carbody              convertible\n",
      "drivewheels                  4wd\n",
      "enginelocation             front\n",
      "wheelbase                   86.6\n",
      "carlength                  141.1\n",
      "carwidth                    60.3\n",
      "carheight                   47.8\n",
      "curbweight                  1488\n",
      "enginetype                  dohc\n",
      "cylindernumber             eight\n",
      "enginesize                    61\n",
      "fuelsystem                  1bbl\n",
      "boreratio                   2.54\n",
      "stroke                      2.07\n",
      "compressionratio             7.0\n",
      "horsepower                    48\n",
      "peakrpm                     4150\n",
      "citympg                       13\n",
      "highwaympg                    16\n",
      "price                     5118.0\n",
      "dtype: object\n"
     ]
    }
   ],
   "source": [
    "print(\"MIN VALUES FROM THE DATAFRAME...\\n\\n\",myCSV.min())"
   ]
  },
  {
   "cell_type": "markdown",
   "id": "ee7b880d",
   "metadata": {},
   "source": [
    "### ---------------DATA CLEANING---------------"
   ]
  },
  {
   "cell_type": "markdown",
   "id": "3130006e",
   "metadata": {},
   "source": [
    "Now that we have an idea of the data we're dealing with, we need to clean the data to make it more readable for both the end user and the ML model. "
   ]
  },
  {
   "cell_type": "markdown",
   "id": "05b00642",
   "metadata": {},
   "source": [
    "First we remove any potential duplicate rows (according to \".info()\" there are none, but we will run this anyways)."
   ]
  },
  {
   "cell_type": "code",
   "execution_count": 8,
   "id": "993f7268",
   "metadata": {},
   "outputs": [],
   "source": [
    "myCSV.drop_duplicates(inplace=True)"
   ]
  },
  {
   "cell_type": "code",
   "execution_count": 9,
   "id": "f50a88fe",
   "metadata": {},
   "outputs": [
    {
     "data": {
      "text/html": [
       "<div>\n",
       "<style scoped>\n",
       "    .dataframe tbody tr th:only-of-type {\n",
       "        vertical-align: middle;\n",
       "    }\n",
       "\n",
       "    .dataframe tbody tr th {\n",
       "        vertical-align: top;\n",
       "    }\n",
       "\n",
       "    .dataframe thead th {\n",
       "        text-align: right;\n",
       "    }\n",
       "</style>\n",
       "<table border=\"1\" class=\"dataframe\">\n",
       "  <thead>\n",
       "    <tr style=\"text-align: right;\">\n",
       "      <th></th>\n",
       "      <th>ID</th>\n",
       "      <th>symboling</th>\n",
       "      <th>name</th>\n",
       "      <th>fueltypes</th>\n",
       "      <th>aspiration</th>\n",
       "      <th>doornumbers</th>\n",
       "      <th>carbody</th>\n",
       "      <th>drivewheels</th>\n",
       "      <th>enginelocation</th>\n",
       "      <th>wheelbase</th>\n",
       "      <th>...</th>\n",
       "      <th>enginesize</th>\n",
       "      <th>fuelsystem</th>\n",
       "      <th>boreratio</th>\n",
       "      <th>stroke</th>\n",
       "      <th>compressionratio</th>\n",
       "      <th>horsepower</th>\n",
       "      <th>peakrpm</th>\n",
       "      <th>citympg</th>\n",
       "      <th>highwaympg</th>\n",
       "      <th>price</th>\n",
       "    </tr>\n",
       "  </thead>\n",
       "  <tbody>\n",
       "    <tr>\n",
       "      <th>0</th>\n",
       "      <td>1</td>\n",
       "      <td>3</td>\n",
       "      <td>alfa-romero giulia</td>\n",
       "      <td>gas</td>\n",
       "      <td>std</td>\n",
       "      <td>two</td>\n",
       "      <td>convertible</td>\n",
       "      <td>rwd</td>\n",
       "      <td>front</td>\n",
       "      <td>88.6</td>\n",
       "      <td>...</td>\n",
       "      <td>130</td>\n",
       "      <td>mpfi</td>\n",
       "      <td>3.47</td>\n",
       "      <td>2.68</td>\n",
       "      <td>9.0</td>\n",
       "      <td>111</td>\n",
       "      <td>5000</td>\n",
       "      <td>21</td>\n",
       "      <td>27</td>\n",
       "      <td>13495.0</td>\n",
       "    </tr>\n",
       "    <tr>\n",
       "      <th>1</th>\n",
       "      <td>2</td>\n",
       "      <td>3</td>\n",
       "      <td>alfa-romero stelvio</td>\n",
       "      <td>gas</td>\n",
       "      <td>std</td>\n",
       "      <td>two</td>\n",
       "      <td>convertible</td>\n",
       "      <td>rwd</td>\n",
       "      <td>front</td>\n",
       "      <td>88.6</td>\n",
       "      <td>...</td>\n",
       "      <td>130</td>\n",
       "      <td>mpfi</td>\n",
       "      <td>3.47</td>\n",
       "      <td>2.68</td>\n",
       "      <td>9.0</td>\n",
       "      <td>111</td>\n",
       "      <td>5000</td>\n",
       "      <td>21</td>\n",
       "      <td>27</td>\n",
       "      <td>16500.0</td>\n",
       "    </tr>\n",
       "    <tr>\n",
       "      <th>2</th>\n",
       "      <td>3</td>\n",
       "      <td>1</td>\n",
       "      <td>alfa-romero Quadrifoglio</td>\n",
       "      <td>gas</td>\n",
       "      <td>std</td>\n",
       "      <td>two</td>\n",
       "      <td>hatchback</td>\n",
       "      <td>rwd</td>\n",
       "      <td>front</td>\n",
       "      <td>94.5</td>\n",
       "      <td>...</td>\n",
       "      <td>152</td>\n",
       "      <td>mpfi</td>\n",
       "      <td>2.68</td>\n",
       "      <td>3.47</td>\n",
       "      <td>9.0</td>\n",
       "      <td>154</td>\n",
       "      <td>5000</td>\n",
       "      <td>19</td>\n",
       "      <td>26</td>\n",
       "      <td>16500.0</td>\n",
       "    </tr>\n",
       "    <tr>\n",
       "      <th>3</th>\n",
       "      <td>4</td>\n",
       "      <td>2</td>\n",
       "      <td>audi 100 ls</td>\n",
       "      <td>gas</td>\n",
       "      <td>std</td>\n",
       "      <td>four</td>\n",
       "      <td>sedan</td>\n",
       "      <td>fwd</td>\n",
       "      <td>front</td>\n",
       "      <td>99.8</td>\n",
       "      <td>...</td>\n",
       "      <td>109</td>\n",
       "      <td>mpfi</td>\n",
       "      <td>3.19</td>\n",
       "      <td>3.40</td>\n",
       "      <td>10.0</td>\n",
       "      <td>102</td>\n",
       "      <td>5500</td>\n",
       "      <td>24</td>\n",
       "      <td>30</td>\n",
       "      <td>13950.0</td>\n",
       "    </tr>\n",
       "    <tr>\n",
       "      <th>4</th>\n",
       "      <td>5</td>\n",
       "      <td>2</td>\n",
       "      <td>audi 100ls</td>\n",
       "      <td>gas</td>\n",
       "      <td>std</td>\n",
       "      <td>four</td>\n",
       "      <td>sedan</td>\n",
       "      <td>4wd</td>\n",
       "      <td>front</td>\n",
       "      <td>99.4</td>\n",
       "      <td>...</td>\n",
       "      <td>136</td>\n",
       "      <td>mpfi</td>\n",
       "      <td>3.19</td>\n",
       "      <td>3.40</td>\n",
       "      <td>8.0</td>\n",
       "      <td>115</td>\n",
       "      <td>5500</td>\n",
       "      <td>18</td>\n",
       "      <td>22</td>\n",
       "      <td>17450.0</td>\n",
       "    </tr>\n",
       "    <tr>\n",
       "      <th>...</th>\n",
       "      <td>...</td>\n",
       "      <td>...</td>\n",
       "      <td>...</td>\n",
       "      <td>...</td>\n",
       "      <td>...</td>\n",
       "      <td>...</td>\n",
       "      <td>...</td>\n",
       "      <td>...</td>\n",
       "      <td>...</td>\n",
       "      <td>...</td>\n",
       "      <td>...</td>\n",
       "      <td>...</td>\n",
       "      <td>...</td>\n",
       "      <td>...</td>\n",
       "      <td>...</td>\n",
       "      <td>...</td>\n",
       "      <td>...</td>\n",
       "      <td>...</td>\n",
       "      <td>...</td>\n",
       "      <td>...</td>\n",
       "      <td>...</td>\n",
       "    </tr>\n",
       "    <tr>\n",
       "      <th>200</th>\n",
       "      <td>201</td>\n",
       "      <td>-1</td>\n",
       "      <td>volvo 145e (sw)</td>\n",
       "      <td>gas</td>\n",
       "      <td>std</td>\n",
       "      <td>four</td>\n",
       "      <td>sedan</td>\n",
       "      <td>rwd</td>\n",
       "      <td>front</td>\n",
       "      <td>109.1</td>\n",
       "      <td>...</td>\n",
       "      <td>141</td>\n",
       "      <td>mpfi</td>\n",
       "      <td>3.78</td>\n",
       "      <td>3.15</td>\n",
       "      <td>9.5</td>\n",
       "      <td>114</td>\n",
       "      <td>5400</td>\n",
       "      <td>23</td>\n",
       "      <td>28</td>\n",
       "      <td>16845.0</td>\n",
       "    </tr>\n",
       "    <tr>\n",
       "      <th>201</th>\n",
       "      <td>202</td>\n",
       "      <td>-1</td>\n",
       "      <td>volvo 144ea</td>\n",
       "      <td>gas</td>\n",
       "      <td>turbo</td>\n",
       "      <td>four</td>\n",
       "      <td>sedan</td>\n",
       "      <td>rwd</td>\n",
       "      <td>front</td>\n",
       "      <td>109.1</td>\n",
       "      <td>...</td>\n",
       "      <td>141</td>\n",
       "      <td>mpfi</td>\n",
       "      <td>3.78</td>\n",
       "      <td>3.15</td>\n",
       "      <td>8.7</td>\n",
       "      <td>160</td>\n",
       "      <td>5300</td>\n",
       "      <td>19</td>\n",
       "      <td>25</td>\n",
       "      <td>19045.0</td>\n",
       "    </tr>\n",
       "    <tr>\n",
       "      <th>202</th>\n",
       "      <td>203</td>\n",
       "      <td>-1</td>\n",
       "      <td>volvo 244dl</td>\n",
       "      <td>gas</td>\n",
       "      <td>std</td>\n",
       "      <td>four</td>\n",
       "      <td>sedan</td>\n",
       "      <td>rwd</td>\n",
       "      <td>front</td>\n",
       "      <td>109.1</td>\n",
       "      <td>...</td>\n",
       "      <td>173</td>\n",
       "      <td>mpfi</td>\n",
       "      <td>3.58</td>\n",
       "      <td>2.87</td>\n",
       "      <td>8.8</td>\n",
       "      <td>134</td>\n",
       "      <td>5500</td>\n",
       "      <td>18</td>\n",
       "      <td>23</td>\n",
       "      <td>21485.0</td>\n",
       "    </tr>\n",
       "    <tr>\n",
       "      <th>203</th>\n",
       "      <td>204</td>\n",
       "      <td>-1</td>\n",
       "      <td>volvo 246</td>\n",
       "      <td>diesel</td>\n",
       "      <td>turbo</td>\n",
       "      <td>four</td>\n",
       "      <td>sedan</td>\n",
       "      <td>rwd</td>\n",
       "      <td>front</td>\n",
       "      <td>109.1</td>\n",
       "      <td>...</td>\n",
       "      <td>145</td>\n",
       "      <td>idi</td>\n",
       "      <td>3.01</td>\n",
       "      <td>3.40</td>\n",
       "      <td>23.0</td>\n",
       "      <td>106</td>\n",
       "      <td>4800</td>\n",
       "      <td>26</td>\n",
       "      <td>27</td>\n",
       "      <td>22470.0</td>\n",
       "    </tr>\n",
       "    <tr>\n",
       "      <th>204</th>\n",
       "      <td>205</td>\n",
       "      <td>-1</td>\n",
       "      <td>volvo 264gl</td>\n",
       "      <td>gas</td>\n",
       "      <td>turbo</td>\n",
       "      <td>four</td>\n",
       "      <td>sedan</td>\n",
       "      <td>rwd</td>\n",
       "      <td>front</td>\n",
       "      <td>109.1</td>\n",
       "      <td>...</td>\n",
       "      <td>141</td>\n",
       "      <td>mpfi</td>\n",
       "      <td>3.78</td>\n",
       "      <td>3.15</td>\n",
       "      <td>9.5</td>\n",
       "      <td>114</td>\n",
       "      <td>5400</td>\n",
       "      <td>19</td>\n",
       "      <td>25</td>\n",
       "      <td>22625.0</td>\n",
       "    </tr>\n",
       "  </tbody>\n",
       "</table>\n",
       "<p>205 rows × 26 columns</p>\n",
       "</div>"
      ],
      "text/plain": [
       "      ID  symboling                      name fueltypes aspiration  \\\n",
       "0      1          3        alfa-romero giulia       gas        std   \n",
       "1      2          3       alfa-romero stelvio       gas        std   \n",
       "2      3          1  alfa-romero Quadrifoglio       gas        std   \n",
       "3      4          2               audi 100 ls       gas        std   \n",
       "4      5          2                audi 100ls       gas        std   \n",
       "..   ...        ...                       ...       ...        ...   \n",
       "200  201         -1           volvo 145e (sw)       gas        std   \n",
       "201  202         -1               volvo 144ea       gas      turbo   \n",
       "202  203         -1               volvo 244dl       gas        std   \n",
       "203  204         -1                 volvo 246    diesel      turbo   \n",
       "204  205         -1               volvo 264gl       gas      turbo   \n",
       "\n",
       "    doornumbers      carbody drivewheels enginelocation  wheelbase  ...  \\\n",
       "0           two  convertible         rwd          front       88.6  ...   \n",
       "1           two  convertible         rwd          front       88.6  ...   \n",
       "2           two    hatchback         rwd          front       94.5  ...   \n",
       "3          four        sedan         fwd          front       99.8  ...   \n",
       "4          four        sedan         4wd          front       99.4  ...   \n",
       "..          ...          ...         ...            ...        ...  ...   \n",
       "200        four        sedan         rwd          front      109.1  ...   \n",
       "201        four        sedan         rwd          front      109.1  ...   \n",
       "202        four        sedan         rwd          front      109.1  ...   \n",
       "203        four        sedan         rwd          front      109.1  ...   \n",
       "204        four        sedan         rwd          front      109.1  ...   \n",
       "\n",
       "     enginesize  fuelsystem  boreratio  stroke compressionratio horsepower  \\\n",
       "0           130        mpfi       3.47    2.68              9.0        111   \n",
       "1           130        mpfi       3.47    2.68              9.0        111   \n",
       "2           152        mpfi       2.68    3.47              9.0        154   \n",
       "3           109        mpfi       3.19    3.40             10.0        102   \n",
       "4           136        mpfi       3.19    3.40              8.0        115   \n",
       "..          ...         ...        ...     ...              ...        ...   \n",
       "200         141        mpfi       3.78    3.15              9.5        114   \n",
       "201         141        mpfi       3.78    3.15              8.7        160   \n",
       "202         173        mpfi       3.58    2.87              8.8        134   \n",
       "203         145         idi       3.01    3.40             23.0        106   \n",
       "204         141        mpfi       3.78    3.15              9.5        114   \n",
       "\n",
       "     peakrpm citympg  highwaympg    price  \n",
       "0       5000      21          27  13495.0  \n",
       "1       5000      21          27  16500.0  \n",
       "2       5000      19          26  16500.0  \n",
       "3       5500      24          30  13950.0  \n",
       "4       5500      18          22  17450.0  \n",
       "..       ...     ...         ...      ...  \n",
       "200     5400      23          28  16845.0  \n",
       "201     5300      19          25  19045.0  \n",
       "202     5500      18          23  21485.0  \n",
       "203     4800      26          27  22470.0  \n",
       "204     5400      19          25  22625.0  \n",
       "\n",
       "[205 rows x 26 columns]"
      ]
     },
     "execution_count": 9,
     "metadata": {},
     "output_type": "execute_result"
    }
   ],
   "source": [
    "myCSV"
   ]
  },
  {
   "cell_type": "markdown",
   "id": "1ae64d35",
   "metadata": {},
   "source": [
    "Notice how the number of rows stayed the same. There were no duplicate rows found or removed. \n",
    "\n",
    "-------------------------------------------------------------------------------------------------------------------------------"
   ]
  },
  {
   "cell_type": "markdown",
   "id": "e4163a3d",
   "metadata": {},
   "source": [
    "Because we're using a supervised regression algiorithm we need to convert some of the categorical/object columns to numeric columns. We will start doing this by changing the \"doornumber\" column in the DataFrame to a numeric column instead of an categorical/object column."
   ]
  },
  {
   "cell_type": "code",
   "execution_count": 10,
   "id": "a945d01f",
   "metadata": {},
   "outputs": [
    {
     "data": {
      "text/plain": [
       "array(['two', 'four'], dtype=object)"
      ]
     },
     "execution_count": 10,
     "metadata": {},
     "output_type": "execute_result"
    }
   ],
   "source": [
    "myCSV[\"doornumbers\"].unique()"
   ]
  },
  {
   "cell_type": "markdown",
   "id": "97a1608a",
   "metadata": {},
   "source": [
    "We now know that there are only two possible \"doornumber\" options (two or four). Because of this information, we can just run every value in the \"doornumber\" column through a if/elif branch using .apply()"
   ]
  },
  {
   "cell_type": "code",
   "execution_count": 11,
   "id": "b6969a1e",
   "metadata": {},
   "outputs": [],
   "source": [
    "def doorNumber(testString):\n",
    "    if testString == \"two\":\n",
    "        return 2\n",
    "    elif testString == \"four\":\n",
    "        return 4\n",
    "    \n",
    "myCSV.insert(5,\"doorNumbers\", myCSV[\"doornumbers\"].apply(doorNumber))"
   ]
  },
  {
   "cell_type": "markdown",
   "id": "7ac3a409",
   "metadata": {},
   "source": [
    "Remove the old \"doornumbers\" column which was an object because now we have a new column \"doorNumbers\" that is numeric and will work with the ML model."
   ]
  },
  {
   "cell_type": "code",
   "execution_count": 12,
   "id": "47c5570b",
   "metadata": {},
   "outputs": [],
   "source": [
    "myCSV.drop(\"doornumbers\",axis = 1,inplace=True)"
   ]
  },
  {
   "cell_type": "markdown",
   "id": "a94eca54",
   "metadata": {},
   "source": [
    "-------------------------------------------------------------------------------------------------------------------------------\n",
    "Now let's do the same as we did above to the \"cylindernumber\" column."
   ]
  },
  {
   "cell_type": "code",
   "execution_count": 13,
   "id": "357870c1",
   "metadata": {},
   "outputs": [
    {
     "data": {
      "text/plain": [
       "array(['four', 'six', 'five', 'three', 'twelve', 'two', 'eight'],\n",
       "      dtype=object)"
      ]
     },
     "execution_count": 13,
     "metadata": {},
     "output_type": "execute_result"
    }
   ],
   "source": [
    "myCSV[\"cylindernumber\"].unique()"
   ]
  },
  {
   "cell_type": "code",
   "execution_count": 14,
   "id": "7dc88edc",
   "metadata": {},
   "outputs": [],
   "source": [
    "def cylinderNumber(testString):\n",
    "    if testString == \"two\":\n",
    "        return 2\n",
    "    \n",
    "    if testString == \"three\":\n",
    "        return 3\n",
    "    \n",
    "    if testString == \"four\":\n",
    "        return 4\n",
    "    \n",
    "    if testString == \"five\":\n",
    "        return 5\n",
    "    \n",
    "    if testString == \"six\":\n",
    "        return 6\n",
    "    \n",
    "    if testString == \"eight\":\n",
    "        return 8\n",
    "    \n",
    "    elif testString == \"twelve\":\n",
    "        return 12\n",
    "    \n",
    "myCSV.insert(14,\"cylinderNumber\", myCSV[\"cylindernumber\"].apply(cylinderNumber))"
   ]
  },
  {
   "cell_type": "code",
   "execution_count": 15,
   "id": "b45a2c42",
   "metadata": {},
   "outputs": [],
   "source": [
    "myCSV.drop(\"cylindernumber\",axis = 1,inplace=True)"
   ]
  },
  {
   "cell_type": "markdown",
   "id": "f5a34b7e",
   "metadata": {},
   "source": [
    "-------------------------------------------------------------------------------------------------------------------------------\n",
    "Using dummies, we're going to now change the \"fueltypes\" column (a category/object column) into numeric column(s). This is just a faster way of doing what was done to the above columns. "
   ]
  },
  {
   "cell_type": "code",
   "execution_count": 16,
   "id": "7b7ae31a",
   "metadata": {},
   "outputs": [],
   "source": [
    "myCSV_fueltypes = pd.get_dummies(myCSV[\"fueltypes\"])\n",
    "myCSV = pd.concat([myCSV, myCSV_fueltypes], axis=1)"
   ]
  },
  {
   "cell_type": "code",
   "execution_count": 17,
   "id": "9e700f94",
   "metadata": {},
   "outputs": [],
   "source": [
    "myCSV.drop(\"fueltypes\",axis = 1,inplace=True)"
   ]
  },
  {
   "cell_type": "markdown",
   "id": "b91fac29",
   "metadata": {},
   "source": [
    "-------------------------------------------------------------------------------------------------------------------------------\n",
    "Now let's do the same as we did above to the \"aspiration\" column."
   ]
  },
  {
   "cell_type": "code",
   "execution_count": 18,
   "id": "1a5ec63f",
   "metadata": {},
   "outputs": [],
   "source": [
    "myCSV_aspiration = pd.get_dummies(myCSV[\"aspiration\"])\n",
    "myCSV = pd.concat([myCSV, myCSV_aspiration], axis=1)"
   ]
  },
  {
   "cell_type": "code",
   "execution_count": 19,
   "id": "a54b0712",
   "metadata": {},
   "outputs": [],
   "source": [
    "myCSV.drop(\"aspiration\",axis = 1,inplace=True)"
   ]
  },
  {
   "cell_type": "markdown",
   "id": "5633ec0c",
   "metadata": {},
   "source": [
    "We've finished doing some basic cleaning to the data. Let's view our semi-finished product. "
   ]
  },
  {
   "cell_type": "code",
   "execution_count": 20,
   "id": "bb27e4dd",
   "metadata": {
    "scrolled": true
   },
   "outputs": [
    {
     "data": {
      "text/html": [
       "<div>\n",
       "<style scoped>\n",
       "    .dataframe tbody tr th:only-of-type {\n",
       "        vertical-align: middle;\n",
       "    }\n",
       "\n",
       "    .dataframe tbody tr th {\n",
       "        vertical-align: top;\n",
       "    }\n",
       "\n",
       "    .dataframe thead th {\n",
       "        text-align: right;\n",
       "    }\n",
       "</style>\n",
       "<table border=\"1\" class=\"dataframe\">\n",
       "  <thead>\n",
       "    <tr style=\"text-align: right;\">\n",
       "      <th></th>\n",
       "      <th>ID</th>\n",
       "      <th>symboling</th>\n",
       "      <th>name</th>\n",
       "      <th>doorNumbers</th>\n",
       "      <th>carbody</th>\n",
       "      <th>drivewheels</th>\n",
       "      <th>enginelocation</th>\n",
       "      <th>wheelbase</th>\n",
       "      <th>carlength</th>\n",
       "      <th>carwidth</th>\n",
       "      <th>...</th>\n",
       "      <th>compressionratio</th>\n",
       "      <th>horsepower</th>\n",
       "      <th>peakrpm</th>\n",
       "      <th>citympg</th>\n",
       "      <th>highwaympg</th>\n",
       "      <th>price</th>\n",
       "      <th>diesel</th>\n",
       "      <th>gas</th>\n",
       "      <th>std</th>\n",
       "      <th>turbo</th>\n",
       "    </tr>\n",
       "  </thead>\n",
       "  <tbody>\n",
       "    <tr>\n",
       "      <th>0</th>\n",
       "      <td>1</td>\n",
       "      <td>3</td>\n",
       "      <td>alfa-romero giulia</td>\n",
       "      <td>2</td>\n",
       "      <td>convertible</td>\n",
       "      <td>rwd</td>\n",
       "      <td>front</td>\n",
       "      <td>88.6</td>\n",
       "      <td>168.8</td>\n",
       "      <td>64.1</td>\n",
       "      <td>...</td>\n",
       "      <td>9.0</td>\n",
       "      <td>111</td>\n",
       "      <td>5000</td>\n",
       "      <td>21</td>\n",
       "      <td>27</td>\n",
       "      <td>13495.0</td>\n",
       "      <td>0</td>\n",
       "      <td>1</td>\n",
       "      <td>1</td>\n",
       "      <td>0</td>\n",
       "    </tr>\n",
       "    <tr>\n",
       "      <th>1</th>\n",
       "      <td>2</td>\n",
       "      <td>3</td>\n",
       "      <td>alfa-romero stelvio</td>\n",
       "      <td>2</td>\n",
       "      <td>convertible</td>\n",
       "      <td>rwd</td>\n",
       "      <td>front</td>\n",
       "      <td>88.6</td>\n",
       "      <td>168.8</td>\n",
       "      <td>64.1</td>\n",
       "      <td>...</td>\n",
       "      <td>9.0</td>\n",
       "      <td>111</td>\n",
       "      <td>5000</td>\n",
       "      <td>21</td>\n",
       "      <td>27</td>\n",
       "      <td>16500.0</td>\n",
       "      <td>0</td>\n",
       "      <td>1</td>\n",
       "      <td>1</td>\n",
       "      <td>0</td>\n",
       "    </tr>\n",
       "    <tr>\n",
       "      <th>2</th>\n",
       "      <td>3</td>\n",
       "      <td>1</td>\n",
       "      <td>alfa-romero Quadrifoglio</td>\n",
       "      <td>2</td>\n",
       "      <td>hatchback</td>\n",
       "      <td>rwd</td>\n",
       "      <td>front</td>\n",
       "      <td>94.5</td>\n",
       "      <td>171.2</td>\n",
       "      <td>65.5</td>\n",
       "      <td>...</td>\n",
       "      <td>9.0</td>\n",
       "      <td>154</td>\n",
       "      <td>5000</td>\n",
       "      <td>19</td>\n",
       "      <td>26</td>\n",
       "      <td>16500.0</td>\n",
       "      <td>0</td>\n",
       "      <td>1</td>\n",
       "      <td>1</td>\n",
       "      <td>0</td>\n",
       "    </tr>\n",
       "    <tr>\n",
       "      <th>3</th>\n",
       "      <td>4</td>\n",
       "      <td>2</td>\n",
       "      <td>audi 100 ls</td>\n",
       "      <td>4</td>\n",
       "      <td>sedan</td>\n",
       "      <td>fwd</td>\n",
       "      <td>front</td>\n",
       "      <td>99.8</td>\n",
       "      <td>176.6</td>\n",
       "      <td>66.2</td>\n",
       "      <td>...</td>\n",
       "      <td>10.0</td>\n",
       "      <td>102</td>\n",
       "      <td>5500</td>\n",
       "      <td>24</td>\n",
       "      <td>30</td>\n",
       "      <td>13950.0</td>\n",
       "      <td>0</td>\n",
       "      <td>1</td>\n",
       "      <td>1</td>\n",
       "      <td>0</td>\n",
       "    </tr>\n",
       "    <tr>\n",
       "      <th>4</th>\n",
       "      <td>5</td>\n",
       "      <td>2</td>\n",
       "      <td>audi 100ls</td>\n",
       "      <td>4</td>\n",
       "      <td>sedan</td>\n",
       "      <td>4wd</td>\n",
       "      <td>front</td>\n",
       "      <td>99.4</td>\n",
       "      <td>176.6</td>\n",
       "      <td>66.4</td>\n",
       "      <td>...</td>\n",
       "      <td>8.0</td>\n",
       "      <td>115</td>\n",
       "      <td>5500</td>\n",
       "      <td>18</td>\n",
       "      <td>22</td>\n",
       "      <td>17450.0</td>\n",
       "      <td>0</td>\n",
       "      <td>1</td>\n",
       "      <td>1</td>\n",
       "      <td>0</td>\n",
       "    </tr>\n",
       "    <tr>\n",
       "      <th>...</th>\n",
       "      <td>...</td>\n",
       "      <td>...</td>\n",
       "      <td>...</td>\n",
       "      <td>...</td>\n",
       "      <td>...</td>\n",
       "      <td>...</td>\n",
       "      <td>...</td>\n",
       "      <td>...</td>\n",
       "      <td>...</td>\n",
       "      <td>...</td>\n",
       "      <td>...</td>\n",
       "      <td>...</td>\n",
       "      <td>...</td>\n",
       "      <td>...</td>\n",
       "      <td>...</td>\n",
       "      <td>...</td>\n",
       "      <td>...</td>\n",
       "      <td>...</td>\n",
       "      <td>...</td>\n",
       "      <td>...</td>\n",
       "      <td>...</td>\n",
       "    </tr>\n",
       "    <tr>\n",
       "      <th>200</th>\n",
       "      <td>201</td>\n",
       "      <td>-1</td>\n",
       "      <td>volvo 145e (sw)</td>\n",
       "      <td>4</td>\n",
       "      <td>sedan</td>\n",
       "      <td>rwd</td>\n",
       "      <td>front</td>\n",
       "      <td>109.1</td>\n",
       "      <td>188.8</td>\n",
       "      <td>68.9</td>\n",
       "      <td>...</td>\n",
       "      <td>9.5</td>\n",
       "      <td>114</td>\n",
       "      <td>5400</td>\n",
       "      <td>23</td>\n",
       "      <td>28</td>\n",
       "      <td>16845.0</td>\n",
       "      <td>0</td>\n",
       "      <td>1</td>\n",
       "      <td>1</td>\n",
       "      <td>0</td>\n",
       "    </tr>\n",
       "    <tr>\n",
       "      <th>201</th>\n",
       "      <td>202</td>\n",
       "      <td>-1</td>\n",
       "      <td>volvo 144ea</td>\n",
       "      <td>4</td>\n",
       "      <td>sedan</td>\n",
       "      <td>rwd</td>\n",
       "      <td>front</td>\n",
       "      <td>109.1</td>\n",
       "      <td>188.8</td>\n",
       "      <td>68.8</td>\n",
       "      <td>...</td>\n",
       "      <td>8.7</td>\n",
       "      <td>160</td>\n",
       "      <td>5300</td>\n",
       "      <td>19</td>\n",
       "      <td>25</td>\n",
       "      <td>19045.0</td>\n",
       "      <td>0</td>\n",
       "      <td>1</td>\n",
       "      <td>0</td>\n",
       "      <td>1</td>\n",
       "    </tr>\n",
       "    <tr>\n",
       "      <th>202</th>\n",
       "      <td>203</td>\n",
       "      <td>-1</td>\n",
       "      <td>volvo 244dl</td>\n",
       "      <td>4</td>\n",
       "      <td>sedan</td>\n",
       "      <td>rwd</td>\n",
       "      <td>front</td>\n",
       "      <td>109.1</td>\n",
       "      <td>188.8</td>\n",
       "      <td>68.9</td>\n",
       "      <td>...</td>\n",
       "      <td>8.8</td>\n",
       "      <td>134</td>\n",
       "      <td>5500</td>\n",
       "      <td>18</td>\n",
       "      <td>23</td>\n",
       "      <td>21485.0</td>\n",
       "      <td>0</td>\n",
       "      <td>1</td>\n",
       "      <td>1</td>\n",
       "      <td>0</td>\n",
       "    </tr>\n",
       "    <tr>\n",
       "      <th>203</th>\n",
       "      <td>204</td>\n",
       "      <td>-1</td>\n",
       "      <td>volvo 246</td>\n",
       "      <td>4</td>\n",
       "      <td>sedan</td>\n",
       "      <td>rwd</td>\n",
       "      <td>front</td>\n",
       "      <td>109.1</td>\n",
       "      <td>188.8</td>\n",
       "      <td>68.9</td>\n",
       "      <td>...</td>\n",
       "      <td>23.0</td>\n",
       "      <td>106</td>\n",
       "      <td>4800</td>\n",
       "      <td>26</td>\n",
       "      <td>27</td>\n",
       "      <td>22470.0</td>\n",
       "      <td>1</td>\n",
       "      <td>0</td>\n",
       "      <td>0</td>\n",
       "      <td>1</td>\n",
       "    </tr>\n",
       "    <tr>\n",
       "      <th>204</th>\n",
       "      <td>205</td>\n",
       "      <td>-1</td>\n",
       "      <td>volvo 264gl</td>\n",
       "      <td>4</td>\n",
       "      <td>sedan</td>\n",
       "      <td>rwd</td>\n",
       "      <td>front</td>\n",
       "      <td>109.1</td>\n",
       "      <td>188.8</td>\n",
       "      <td>68.9</td>\n",
       "      <td>...</td>\n",
       "      <td>9.5</td>\n",
       "      <td>114</td>\n",
       "      <td>5400</td>\n",
       "      <td>19</td>\n",
       "      <td>25</td>\n",
       "      <td>22625.0</td>\n",
       "      <td>0</td>\n",
       "      <td>1</td>\n",
       "      <td>0</td>\n",
       "      <td>1</td>\n",
       "    </tr>\n",
       "  </tbody>\n",
       "</table>\n",
       "<p>205 rows × 28 columns</p>\n",
       "</div>"
      ],
      "text/plain": [
       "      ID  symboling                      name  doorNumbers      carbody  \\\n",
       "0      1          3        alfa-romero giulia            2  convertible   \n",
       "1      2          3       alfa-romero stelvio            2  convertible   \n",
       "2      3          1  alfa-romero Quadrifoglio            2    hatchback   \n",
       "3      4          2               audi 100 ls            4        sedan   \n",
       "4      5          2                audi 100ls            4        sedan   \n",
       "..   ...        ...                       ...          ...          ...   \n",
       "200  201         -1           volvo 145e (sw)            4        sedan   \n",
       "201  202         -1               volvo 144ea            4        sedan   \n",
       "202  203         -1               volvo 244dl            4        sedan   \n",
       "203  204         -1                 volvo 246            4        sedan   \n",
       "204  205         -1               volvo 264gl            4        sedan   \n",
       "\n",
       "    drivewheels enginelocation  wheelbase  carlength  carwidth  ...  \\\n",
       "0           rwd          front       88.6      168.8      64.1  ...   \n",
       "1           rwd          front       88.6      168.8      64.1  ...   \n",
       "2           rwd          front       94.5      171.2      65.5  ...   \n",
       "3           fwd          front       99.8      176.6      66.2  ...   \n",
       "4           4wd          front       99.4      176.6      66.4  ...   \n",
       "..          ...            ...        ...        ...       ...  ...   \n",
       "200         rwd          front      109.1      188.8      68.9  ...   \n",
       "201         rwd          front      109.1      188.8      68.8  ...   \n",
       "202         rwd          front      109.1      188.8      68.9  ...   \n",
       "203         rwd          front      109.1      188.8      68.9  ...   \n",
       "204         rwd          front      109.1      188.8      68.9  ...   \n",
       "\n",
       "     compressionratio  horsepower  peakrpm citympg  highwaympg    price  \\\n",
       "0                 9.0         111     5000      21          27  13495.0   \n",
       "1                 9.0         111     5000      21          27  16500.0   \n",
       "2                 9.0         154     5000      19          26  16500.0   \n",
       "3                10.0         102     5500      24          30  13950.0   \n",
       "4                 8.0         115     5500      18          22  17450.0   \n",
       "..                ...         ...      ...     ...         ...      ...   \n",
       "200               9.5         114     5400      23          28  16845.0   \n",
       "201               8.7         160     5300      19          25  19045.0   \n",
       "202               8.8         134     5500      18          23  21485.0   \n",
       "203              23.0         106     4800      26          27  22470.0   \n",
       "204               9.5         114     5400      19          25  22625.0   \n",
       "\n",
       "     diesel  gas  std  turbo  \n",
       "0         0    1    1      0  \n",
       "1         0    1    1      0  \n",
       "2         0    1    1      0  \n",
       "3         0    1    1      0  \n",
       "4         0    1    1      0  \n",
       "..      ...  ...  ...    ...  \n",
       "200       0    1    1      0  \n",
       "201       0    1    0      1  \n",
       "202       0    1    1      0  \n",
       "203       1    0    0      1  \n",
       "204       0    1    0      1  \n",
       "\n",
       "[205 rows x 28 columns]"
      ]
     },
     "execution_count": 20,
     "metadata": {},
     "output_type": "execute_result"
    }
   ],
   "source": [
    "myCSV"
   ]
  },
  {
   "cell_type": "markdown",
   "id": "8a87e148",
   "metadata": {},
   "source": [
    "Notice how the doorNumbers column is now numeric and the \"diesel\",\"gas\",\"std\", and \"turbo\" columns were added at the end to replace the old object/categorical columns. "
   ]
  },
  {
   "cell_type": "code",
   "execution_count": 21,
   "id": "16345444",
   "metadata": {},
   "outputs": [
    {
     "data": {
      "text/plain": [
       "Index(['ID', 'symboling', 'name', 'doorNumbers', 'carbody', 'drivewheels',\n",
       "       'enginelocation', 'wheelbase', 'carlength', 'carwidth', 'carheight',\n",
       "       'curbweight', 'cylinderNumber', 'enginetype', 'enginesize',\n",
       "       'fuelsystem', 'boreratio', 'stroke', 'compressionratio', 'horsepower',\n",
       "       'peakrpm', 'citympg', 'highwaympg', 'price', 'diesel', 'gas', 'std',\n",
       "       'turbo'],\n",
       "      dtype='object')"
      ]
     },
     "execution_count": 21,
     "metadata": {},
     "output_type": "execute_result"
    }
   ],
   "source": [
    "myCSV.columns"
   ]
  },
  {
   "cell_type": "markdown",
   "id": "2d037d37",
   "metadata": {},
   "source": [
    "-------------------------------------------------------------------------------------------------------------------------------\n",
    "Next, let's remove the \"ID\" and \"symboling\" columns as those columns have no use here. For better readabilty, let's also move the \"price\" column to the front of the DataFrame."
   ]
  },
  {
   "cell_type": "code",
   "execution_count": 22,
   "id": "4f17c18d",
   "metadata": {},
   "outputs": [],
   "source": [
    "myCSV.drop(\"ID\", axis = 1,inplace=True)\n",
    "myCSV.drop(\"symboling\", axis = 1,inplace=True)"
   ]
  },
  {
   "cell_type": "code",
   "execution_count": 23,
   "id": "51ba871e",
   "metadata": {},
   "outputs": [],
   "source": [
    "first_column = myCSV.pop(\"price\")\n",
    "myCSV.insert(1,\"price\",first_column)"
   ]
  },
  {
   "cell_type": "code",
   "execution_count": 24,
   "id": "53170497",
   "metadata": {},
   "outputs": [
    {
     "data": {
      "text/html": [
       "<div>\n",
       "<style scoped>\n",
       "    .dataframe tbody tr th:only-of-type {\n",
       "        vertical-align: middle;\n",
       "    }\n",
       "\n",
       "    .dataframe tbody tr th {\n",
       "        vertical-align: top;\n",
       "    }\n",
       "\n",
       "    .dataframe thead th {\n",
       "        text-align: right;\n",
       "    }\n",
       "</style>\n",
       "<table border=\"1\" class=\"dataframe\">\n",
       "  <thead>\n",
       "    <tr style=\"text-align: right;\">\n",
       "      <th></th>\n",
       "      <th>name</th>\n",
       "      <th>price</th>\n",
       "      <th>doorNumbers</th>\n",
       "      <th>carbody</th>\n",
       "      <th>drivewheels</th>\n",
       "      <th>enginelocation</th>\n",
       "      <th>wheelbase</th>\n",
       "      <th>carlength</th>\n",
       "      <th>carwidth</th>\n",
       "      <th>carheight</th>\n",
       "      <th>...</th>\n",
       "      <th>stroke</th>\n",
       "      <th>compressionratio</th>\n",
       "      <th>horsepower</th>\n",
       "      <th>peakrpm</th>\n",
       "      <th>citympg</th>\n",
       "      <th>highwaympg</th>\n",
       "      <th>diesel</th>\n",
       "      <th>gas</th>\n",
       "      <th>std</th>\n",
       "      <th>turbo</th>\n",
       "    </tr>\n",
       "  </thead>\n",
       "  <tbody>\n",
       "    <tr>\n",
       "      <th>0</th>\n",
       "      <td>alfa-romero giulia</td>\n",
       "      <td>13495.0</td>\n",
       "      <td>2</td>\n",
       "      <td>convertible</td>\n",
       "      <td>rwd</td>\n",
       "      <td>front</td>\n",
       "      <td>88.6</td>\n",
       "      <td>168.8</td>\n",
       "      <td>64.1</td>\n",
       "      <td>48.8</td>\n",
       "      <td>...</td>\n",
       "      <td>2.68</td>\n",
       "      <td>9.0</td>\n",
       "      <td>111</td>\n",
       "      <td>5000</td>\n",
       "      <td>21</td>\n",
       "      <td>27</td>\n",
       "      <td>0</td>\n",
       "      <td>1</td>\n",
       "      <td>1</td>\n",
       "      <td>0</td>\n",
       "    </tr>\n",
       "    <tr>\n",
       "      <th>1</th>\n",
       "      <td>alfa-romero stelvio</td>\n",
       "      <td>16500.0</td>\n",
       "      <td>2</td>\n",
       "      <td>convertible</td>\n",
       "      <td>rwd</td>\n",
       "      <td>front</td>\n",
       "      <td>88.6</td>\n",
       "      <td>168.8</td>\n",
       "      <td>64.1</td>\n",
       "      <td>48.8</td>\n",
       "      <td>...</td>\n",
       "      <td>2.68</td>\n",
       "      <td>9.0</td>\n",
       "      <td>111</td>\n",
       "      <td>5000</td>\n",
       "      <td>21</td>\n",
       "      <td>27</td>\n",
       "      <td>0</td>\n",
       "      <td>1</td>\n",
       "      <td>1</td>\n",
       "      <td>0</td>\n",
       "    </tr>\n",
       "    <tr>\n",
       "      <th>2</th>\n",
       "      <td>alfa-romero Quadrifoglio</td>\n",
       "      <td>16500.0</td>\n",
       "      <td>2</td>\n",
       "      <td>hatchback</td>\n",
       "      <td>rwd</td>\n",
       "      <td>front</td>\n",
       "      <td>94.5</td>\n",
       "      <td>171.2</td>\n",
       "      <td>65.5</td>\n",
       "      <td>52.4</td>\n",
       "      <td>...</td>\n",
       "      <td>3.47</td>\n",
       "      <td>9.0</td>\n",
       "      <td>154</td>\n",
       "      <td>5000</td>\n",
       "      <td>19</td>\n",
       "      <td>26</td>\n",
       "      <td>0</td>\n",
       "      <td>1</td>\n",
       "      <td>1</td>\n",
       "      <td>0</td>\n",
       "    </tr>\n",
       "    <tr>\n",
       "      <th>3</th>\n",
       "      <td>audi 100 ls</td>\n",
       "      <td>13950.0</td>\n",
       "      <td>4</td>\n",
       "      <td>sedan</td>\n",
       "      <td>fwd</td>\n",
       "      <td>front</td>\n",
       "      <td>99.8</td>\n",
       "      <td>176.6</td>\n",
       "      <td>66.2</td>\n",
       "      <td>54.3</td>\n",
       "      <td>...</td>\n",
       "      <td>3.40</td>\n",
       "      <td>10.0</td>\n",
       "      <td>102</td>\n",
       "      <td>5500</td>\n",
       "      <td>24</td>\n",
       "      <td>30</td>\n",
       "      <td>0</td>\n",
       "      <td>1</td>\n",
       "      <td>1</td>\n",
       "      <td>0</td>\n",
       "    </tr>\n",
       "    <tr>\n",
       "      <th>4</th>\n",
       "      <td>audi 100ls</td>\n",
       "      <td>17450.0</td>\n",
       "      <td>4</td>\n",
       "      <td>sedan</td>\n",
       "      <td>4wd</td>\n",
       "      <td>front</td>\n",
       "      <td>99.4</td>\n",
       "      <td>176.6</td>\n",
       "      <td>66.4</td>\n",
       "      <td>54.3</td>\n",
       "      <td>...</td>\n",
       "      <td>3.40</td>\n",
       "      <td>8.0</td>\n",
       "      <td>115</td>\n",
       "      <td>5500</td>\n",
       "      <td>18</td>\n",
       "      <td>22</td>\n",
       "      <td>0</td>\n",
       "      <td>1</td>\n",
       "      <td>1</td>\n",
       "      <td>0</td>\n",
       "    </tr>\n",
       "    <tr>\n",
       "      <th>...</th>\n",
       "      <td>...</td>\n",
       "      <td>...</td>\n",
       "      <td>...</td>\n",
       "      <td>...</td>\n",
       "      <td>...</td>\n",
       "      <td>...</td>\n",
       "      <td>...</td>\n",
       "      <td>...</td>\n",
       "      <td>...</td>\n",
       "      <td>...</td>\n",
       "      <td>...</td>\n",
       "      <td>...</td>\n",
       "      <td>...</td>\n",
       "      <td>...</td>\n",
       "      <td>...</td>\n",
       "      <td>...</td>\n",
       "      <td>...</td>\n",
       "      <td>...</td>\n",
       "      <td>...</td>\n",
       "      <td>...</td>\n",
       "      <td>...</td>\n",
       "    </tr>\n",
       "    <tr>\n",
       "      <th>200</th>\n",
       "      <td>volvo 145e (sw)</td>\n",
       "      <td>16845.0</td>\n",
       "      <td>4</td>\n",
       "      <td>sedan</td>\n",
       "      <td>rwd</td>\n",
       "      <td>front</td>\n",
       "      <td>109.1</td>\n",
       "      <td>188.8</td>\n",
       "      <td>68.9</td>\n",
       "      <td>55.5</td>\n",
       "      <td>...</td>\n",
       "      <td>3.15</td>\n",
       "      <td>9.5</td>\n",
       "      <td>114</td>\n",
       "      <td>5400</td>\n",
       "      <td>23</td>\n",
       "      <td>28</td>\n",
       "      <td>0</td>\n",
       "      <td>1</td>\n",
       "      <td>1</td>\n",
       "      <td>0</td>\n",
       "    </tr>\n",
       "    <tr>\n",
       "      <th>201</th>\n",
       "      <td>volvo 144ea</td>\n",
       "      <td>19045.0</td>\n",
       "      <td>4</td>\n",
       "      <td>sedan</td>\n",
       "      <td>rwd</td>\n",
       "      <td>front</td>\n",
       "      <td>109.1</td>\n",
       "      <td>188.8</td>\n",
       "      <td>68.8</td>\n",
       "      <td>55.5</td>\n",
       "      <td>...</td>\n",
       "      <td>3.15</td>\n",
       "      <td>8.7</td>\n",
       "      <td>160</td>\n",
       "      <td>5300</td>\n",
       "      <td>19</td>\n",
       "      <td>25</td>\n",
       "      <td>0</td>\n",
       "      <td>1</td>\n",
       "      <td>0</td>\n",
       "      <td>1</td>\n",
       "    </tr>\n",
       "    <tr>\n",
       "      <th>202</th>\n",
       "      <td>volvo 244dl</td>\n",
       "      <td>21485.0</td>\n",
       "      <td>4</td>\n",
       "      <td>sedan</td>\n",
       "      <td>rwd</td>\n",
       "      <td>front</td>\n",
       "      <td>109.1</td>\n",
       "      <td>188.8</td>\n",
       "      <td>68.9</td>\n",
       "      <td>55.5</td>\n",
       "      <td>...</td>\n",
       "      <td>2.87</td>\n",
       "      <td>8.8</td>\n",
       "      <td>134</td>\n",
       "      <td>5500</td>\n",
       "      <td>18</td>\n",
       "      <td>23</td>\n",
       "      <td>0</td>\n",
       "      <td>1</td>\n",
       "      <td>1</td>\n",
       "      <td>0</td>\n",
       "    </tr>\n",
       "    <tr>\n",
       "      <th>203</th>\n",
       "      <td>volvo 246</td>\n",
       "      <td>22470.0</td>\n",
       "      <td>4</td>\n",
       "      <td>sedan</td>\n",
       "      <td>rwd</td>\n",
       "      <td>front</td>\n",
       "      <td>109.1</td>\n",
       "      <td>188.8</td>\n",
       "      <td>68.9</td>\n",
       "      <td>55.5</td>\n",
       "      <td>...</td>\n",
       "      <td>3.40</td>\n",
       "      <td>23.0</td>\n",
       "      <td>106</td>\n",
       "      <td>4800</td>\n",
       "      <td>26</td>\n",
       "      <td>27</td>\n",
       "      <td>1</td>\n",
       "      <td>0</td>\n",
       "      <td>0</td>\n",
       "      <td>1</td>\n",
       "    </tr>\n",
       "    <tr>\n",
       "      <th>204</th>\n",
       "      <td>volvo 264gl</td>\n",
       "      <td>22625.0</td>\n",
       "      <td>4</td>\n",
       "      <td>sedan</td>\n",
       "      <td>rwd</td>\n",
       "      <td>front</td>\n",
       "      <td>109.1</td>\n",
       "      <td>188.8</td>\n",
       "      <td>68.9</td>\n",
       "      <td>55.5</td>\n",
       "      <td>...</td>\n",
       "      <td>3.15</td>\n",
       "      <td>9.5</td>\n",
       "      <td>114</td>\n",
       "      <td>5400</td>\n",
       "      <td>19</td>\n",
       "      <td>25</td>\n",
       "      <td>0</td>\n",
       "      <td>1</td>\n",
       "      <td>0</td>\n",
       "      <td>1</td>\n",
       "    </tr>\n",
       "  </tbody>\n",
       "</table>\n",
       "<p>205 rows × 26 columns</p>\n",
       "</div>"
      ],
      "text/plain": [
       "                         name    price  doorNumbers      carbody drivewheels  \\\n",
       "0          alfa-romero giulia  13495.0            2  convertible         rwd   \n",
       "1         alfa-romero stelvio  16500.0            2  convertible         rwd   \n",
       "2    alfa-romero Quadrifoglio  16500.0            2    hatchback         rwd   \n",
       "3                 audi 100 ls  13950.0            4        sedan         fwd   \n",
       "4                  audi 100ls  17450.0            4        sedan         4wd   \n",
       "..                        ...      ...          ...          ...         ...   \n",
       "200           volvo 145e (sw)  16845.0            4        sedan         rwd   \n",
       "201               volvo 144ea  19045.0            4        sedan         rwd   \n",
       "202               volvo 244dl  21485.0            4        sedan         rwd   \n",
       "203                 volvo 246  22470.0            4        sedan         rwd   \n",
       "204               volvo 264gl  22625.0            4        sedan         rwd   \n",
       "\n",
       "    enginelocation  wheelbase  carlength  carwidth  carheight  ...  stroke  \\\n",
       "0            front       88.6      168.8      64.1       48.8  ...    2.68   \n",
       "1            front       88.6      168.8      64.1       48.8  ...    2.68   \n",
       "2            front       94.5      171.2      65.5       52.4  ...    3.47   \n",
       "3            front       99.8      176.6      66.2       54.3  ...    3.40   \n",
       "4            front       99.4      176.6      66.4       54.3  ...    3.40   \n",
       "..             ...        ...        ...       ...        ...  ...     ...   \n",
       "200          front      109.1      188.8      68.9       55.5  ...    3.15   \n",
       "201          front      109.1      188.8      68.8       55.5  ...    3.15   \n",
       "202          front      109.1      188.8      68.9       55.5  ...    2.87   \n",
       "203          front      109.1      188.8      68.9       55.5  ...    3.40   \n",
       "204          front      109.1      188.8      68.9       55.5  ...    3.15   \n",
       "\n",
       "     compressionratio horsepower  peakrpm citympg  highwaympg  diesel  gas  \\\n",
       "0                 9.0        111     5000      21          27       0    1   \n",
       "1                 9.0        111     5000      21          27       0    1   \n",
       "2                 9.0        154     5000      19          26       0    1   \n",
       "3                10.0        102     5500      24          30       0    1   \n",
       "4                 8.0        115     5500      18          22       0    1   \n",
       "..                ...        ...      ...     ...         ...     ...  ...   \n",
       "200               9.5        114     5400      23          28       0    1   \n",
       "201               8.7        160     5300      19          25       0    1   \n",
       "202               8.8        134     5500      18          23       0    1   \n",
       "203              23.0        106     4800      26          27       1    0   \n",
       "204               9.5        114     5400      19          25       0    1   \n",
       "\n",
       "     std  turbo  \n",
       "0      1      0  \n",
       "1      1      0  \n",
       "2      1      0  \n",
       "3      1      0  \n",
       "4      1      0  \n",
       "..   ...    ...  \n",
       "200    1      0  \n",
       "201    0      1  \n",
       "202    1      0  \n",
       "203    0      1  \n",
       "204    0      1  \n",
       "\n",
       "[205 rows x 26 columns]"
      ]
     },
     "execution_count": 24,
     "metadata": {},
     "output_type": "execute_result"
    }
   ],
   "source": [
    "myCSV"
   ]
  },
  {
   "cell_type": "markdown",
   "id": "5a3a3790",
   "metadata": {},
   "source": [
    "-------------------------------------------------------------------------------------------------------------------------------\n",
    "Checking up on the \"name\" column, it seems we have A LOT of unique values. Let's clean this up by only having the brand be the vehicle name"
   ]
  },
  {
   "cell_type": "code",
   "execution_count": 25,
   "id": "150979ec",
   "metadata": {},
   "outputs": [
    {
     "name": "stdout",
     "output_type": "stream",
     "text": [
      "['alfa-romero giulia' 'alfa-romero stelvio' 'alfa-romero Quadrifoglio'\n",
      " 'audi 100 ls' 'audi 100ls' 'audi fox' 'audi 5000' 'audi 4000'\n",
      " 'audi 5000s (diesel)' 'bmw 320i' 'bmw x1' 'bmw x3' 'bmw z4' 'bmw x4'\n",
      " 'bmw x5' 'chevrolet impala' 'chevrolet monte carlo' 'chevrolet vega 2300'\n",
      " 'dodge rampage' 'dodge challenger se' 'dodge d200' 'dodge monaco (sw)'\n",
      " 'dodge colt hardtop' 'dodge colt (sw)' 'dodge coronet custom'\n",
      " 'dodge dart custom' 'dodge coronet custom (sw)' 'honda civic'\n",
      " 'honda civic cvcc' 'honda accord cvcc' 'honda accord lx'\n",
      " 'honda civic 1500 gl' 'honda accord' 'honda civic 1300' 'honda prelude'\n",
      " 'honda civic (auto)' 'isuzu MU-X' 'isuzu D-Max ' 'isuzu D-Max V-Cross'\n",
      " 'jaguar xj' 'jaguar xf' 'jaguar xk' 'maxda rx3' 'maxda glc deluxe'\n",
      " 'mazda rx2 coupe' 'mazda rx-4' 'mazda glc deluxe' 'mazda 626' 'mazda glc'\n",
      " 'mazda rx-7 gs' 'mazda glc 4' 'mazda glc custom l' 'mazda glc custom'\n",
      " 'buick electra 225 custom' 'buick century luxus (sw)' 'buick century'\n",
      " 'buick skyhawk' 'buick opel isuzu deluxe' 'buick skylark'\n",
      " 'buick century special' 'buick regal sport coupe (turbo)'\n",
      " 'mercury cougar' 'mitsubishi mirage' 'mitsubishi lancer'\n",
      " 'mitsubishi outlander' 'mitsubishi g4' 'mitsubishi mirage g4'\n",
      " 'mitsubishi montero' 'mitsubishi pajero' 'Nissan versa' 'nissan gt-r'\n",
      " 'nissan rogue' 'nissan latio' 'nissan titan' 'nissan leaf' 'nissan juke'\n",
      " 'nissan note' 'nissan clipper' 'nissan nv200' 'nissan dayz' 'nissan fuga'\n",
      " 'nissan otti' 'nissan teana' 'nissan kicks' 'peugeot 504' 'peugeot 304'\n",
      " 'peugeot 504 (sw)' 'peugeot 604sl' 'peugeot 505s turbo diesel'\n",
      " 'plymouth fury iii' 'plymouth cricket' 'plymouth satellite custom (sw)'\n",
      " 'plymouth fury gran sedan' 'plymouth valiant' 'plymouth duster'\n",
      " 'porsche macan' 'porcshce panamera' 'porsche cayenne' 'porsche boxter'\n",
      " 'renault 12tl' 'renault 5 gtl' 'saab 99e' 'saab 99le' 'saab 99gle'\n",
      " 'subaru' 'subaru dl' 'subaru brz' 'subaru baja' 'subaru r1' 'subaru r2'\n",
      " 'subaru trezia' 'subaru tribeca' 'toyota corona mark ii' 'toyota corona'\n",
      " 'toyota corolla 1200' 'toyota corona hardtop' 'toyota corolla 1600 (sw)'\n",
      " 'toyota carina' 'toyota mark ii' 'toyota corolla'\n",
      " 'toyota corolla liftback' 'toyota celica gt liftback'\n",
      " 'toyota corolla tercel' 'toyota corona liftback' 'toyota starlet'\n",
      " 'toyota tercel' 'toyota cressida' 'toyota celica gt' 'toyouta tercel'\n",
      " 'vokswagen rabbit' 'volkswagen 1131 deluxe sedan' 'volkswagen model 111'\n",
      " 'volkswagen type 3' 'volkswagen 411 (sw)' 'volkswagen super beetle'\n",
      " 'volkswagen dasher' 'vw dasher' 'vw rabbit' 'volkswagen rabbit'\n",
      " 'volkswagen rabbit custom' 'volvo 145e (sw)' 'volvo 144ea' 'volvo 244dl'\n",
      " 'volvo 245' 'volvo 264gl' 'volvo diesel' 'volvo 246'] \n",
      "\n",
      " NUMBER OF UNIQUE VEHICLE NAMES:  147\n"
     ]
    }
   ],
   "source": [
    "print(myCSV[\"name\"].unique(), \"\\n\\n NUMBER OF UNIQUE VEHICLE NAMES: \", myCSV[\"name\"].nunique())"
   ]
  },
  {
   "cell_type": "code",
   "execution_count": 26,
   "id": "8d084259",
   "metadata": {},
   "outputs": [],
   "source": [
    "myCSV.insert(0,\"vehicleBrand\",myCSV[\"name\"].apply(lambda name : name.split()[0]))\n",
    "myCSV.drop(\"name\",axis = 1,inplace=True)"
   ]
  },
  {
   "cell_type": "code",
   "execution_count": 27,
   "id": "6465a8a0",
   "metadata": {},
   "outputs": [
    {
     "name": "stdout",
     "output_type": "stream",
     "text": [
      "['alfa-romero' 'audi' 'bmw' 'chevrolet' 'dodge' 'honda' 'isuzu' 'jaguar'\n",
      " 'maxda' 'mazda' 'buick' 'mercury' 'mitsubishi' 'Nissan' 'nissan'\n",
      " 'peugeot' 'plymouth' 'porsche' 'porcshce' 'renault' 'saab' 'subaru'\n",
      " 'toyota' 'toyouta' 'vokswagen' 'volkswagen' 'vw' 'volvo'] \n",
      "\n",
      " NUMBER OF UNIQUE VEHICLE NAMES:  28\n"
     ]
    }
   ],
   "source": [
    "print(myCSV[\"vehicleBrand\"].unique(), \"\\n\\n NUMBER OF UNIQUE VEHICLE NAMES: \", myCSV[\"vehicleBrand\"].nunique())"
   ]
  },
  {
   "cell_type": "markdown",
   "id": "72c8d66a",
   "metadata": {},
   "source": [
    "We went from 147 UNIQUE vehicle names to 28 UNIQUE vehicle names.\n",
    "\n",
    "-------------------------------------------------------------------------------------------------------------------------------"
   ]
  },
  {
   "cell_type": "markdown",
   "id": "608e7c7c",
   "metadata": {},
   "source": [
    "### ---------------DATA VISUALIZATION---------------"
   ]
  },
  {
   "cell_type": "markdown",
   "id": "6ec939fb",
   "metadata": {},
   "source": [
    "Now that the data is a bit cleaner, let's begin visualizing the data and the relationships it has with itself"
   ]
  },
  {
   "cell_type": "markdown",
   "id": "1d06a4c7",
   "metadata": {},
   "source": [
    "We begin by showcasing the DISTRIBUTION of vehicles based off of their price."
   ]
  },
  {
   "cell_type": "code",
   "execution_count": 28,
   "id": "ad9e4b0a",
   "metadata": {},
   "outputs": [
    {
     "data": {
      "text/plain": [
       "<seaborn.axisgrid.FacetGrid at 0x188d32d3580>"
      ]
     },
     "execution_count": 28,
     "metadata": {},
     "output_type": "execute_result"
    },
    {
     "data": {
      "image/png": "[encoded data removed]",
      "text/plain": [
       "<Figure size 500x500 with 1 Axes>"
      ]
     },
     "metadata": {},
     "output_type": "display_data"
    }
   ],
   "source": [
    "sns.displot(data = myCSV, x = \"price\", color='g', bins=40, kde=True, linewidth = 1, edgecolor = \"black\", alpha = 0.65)"
   ]
  },
  {
   "cell_type": "markdown",
   "id": "4bb5f8c2",
   "metadata": {},
   "source": [
    "Looking at this plot it's clear to see that most vehicles cost between $5,000 - $20,000\n",
    "\n",
    "-------------------------------------------------------------------------------------------------------------------------------"
   ]
  },
  {
   "cell_type": "markdown",
   "id": "3446e250",
   "metadata": {},
   "source": [
    "Next, let's create a heatmap to better understand the relationships between all of our data. This will include \"annot=True\", which will show the correlation values with the heatmap."
   ]
  },
  {
   "cell_type": "code",
   "execution_count": 29,
   "id": "bae9cb3a",
   "metadata": {
    "scrolled": true
   },
   "outputs": [
    {
     "name": "stderr",
     "output_type": "stream",
     "text": [
      "C:\\Users\\Dylan\\AppData\\Local\\Temp\\ipykernel_9776\\2432674210.py:2: FutureWarning: The default value of numeric_only in DataFrame.corr is deprecated. In a future version, it will default to False. Select only valid columns or specify the value of numeric_only to silence this warning.\n",
      "  sns.heatmap(data = myCSV.corr(),annot=True,cmap=\"BuGn\")\n"
     ]
    },
    {
     "data": {
      "image/png": "[encoded data removed]",
      "text/plain": [
       "<Figure size 1500x1000 with 2 Axes>"
      ]
     },
     "metadata": {},
     "output_type": "display_data"
    }
   ],
   "source": [
    "plt.figure(figsize=[15,10])\n",
    "sns.heatmap(data = myCSV.corr(),annot=True,cmap=\"BuGn\")\n",
    "plt.show()"
   ]
  },
  {
   "cell_type": "markdown",
   "id": "d438e906",
   "metadata": {},
   "source": [
    "Looking at the price column in the heatmap it looks like the following have a high correlation with price...\n",
    "\n",
    "    -HORSEPOWER (0.81)\n",
    "    \n",
    "    -ENGINESIZE (0.87)\n",
    "    \n",
    "    -CYLINDERNUMBER (0.72)\n",
    "    \n",
    "    -CURBWEIGHT (0.84)\n",
    "    \n",
    "    -CARLENGTH (0.66)\n",
    "    \n",
    "    -CARWIDTH (0.76\n",
    "    \n",
    "Besides those columns, the following have a decent correlation with price...\n",
    "\n",
    "    -BORERATIO (0.55)\n",
    "    \n",
    "    -WHEELBASE (0.58)\n",
    "    \n",
    "-------------------------------------------------------------------------------------------------------------------------------"
   ]
  },
  {
   "cell_type": "markdown",
   "id": "5472e8e2",
   "metadata": {},
   "source": [
    "### ---------------CREATING THE VEHICLE PRICE PREDICTION MODEL---------------"
   ]
  },
  {
   "cell_type": "markdown",
   "id": "070446d2",
   "metadata": {},
   "source": [
    "Now that we've explored the data let's go ahead and split the data into training and testing sets that will be used for the ML Linear Regression model"
   ]
  },
  {
   "cell_type": "code",
   "execution_count": 30,
   "id": "6b445058",
   "metadata": {},
   "outputs": [
    {
     "data": {
      "text/plain": [
       "Index(['vehicleBrand', 'price', 'doorNumbers', 'carbody', 'drivewheels',\n",
       "       'enginelocation', 'wheelbase', 'carlength', 'carwidth', 'carheight',\n",
       "       'curbweight', 'cylinderNumber', 'enginetype', 'enginesize',\n",
       "       'fuelsystem', 'boreratio', 'stroke', 'compressionratio', 'horsepower',\n",
       "       'peakrpm', 'citympg', 'highwaympg', 'diesel', 'gas', 'std', 'turbo'],\n",
       "      dtype='object')"
      ]
     },
     "execution_count": 30,
     "metadata": {},
     "output_type": "execute_result"
    }
   ],
   "source": [
    "myCSV.columns"
   ]
  },
  {
   "cell_type": "code",
   "execution_count": 31,
   "id": "2fb26166",
   "metadata": {},
   "outputs": [],
   "source": [
    "X = myCSV[[\"doorNumbers\",\"diesel\",\"gas\",\"std\",\"turbo\",\n",
    "       \"wheelbase\", \"carlength\",\n",
    "       \"carwidth\", \"carheight\", \"curbweight\", \"cylinderNumber\",\n",
    "       \"enginesize\", \"boreratio\", \"stroke\", \"compressionratio\",\n",
    "       \"horsepower\", \"peakrpm\", \"citympg\", \"highwaympg\"]]"
   ]
  },
  {
   "cell_type": "code",
   "execution_count": 32,
   "id": "9c99f907",
   "metadata": {},
   "outputs": [],
   "source": [
    "y = myCSV[\"price\"]"
   ]
  },
  {
   "cell_type": "markdown",
   "id": "d94955b3",
   "metadata": {},
   "source": [
    "Setting up variables. We're going to be using 60% of the data as a test_size which is larger than average (30%). This is done to attempt to improve the accuracy of the ML Linear Regression prediction model."
   ]
  },
  {
   "cell_type": "code",
   "execution_count": 33,
   "id": "22dc778d",
   "metadata": {},
   "outputs": [],
   "source": [
    "from sklearn.model_selection import train_test_split\n",
    "\n",
    "X_train, X_test, y_train, y_test = train_test_split(X, y, test_size=0.6)"
   ]
  },
  {
   "cell_type": "markdown",
   "id": "8a2070ce",
   "metadata": {},
   "source": [
    "Now it's time to train the model using our training data using LinearRegression\n"
   ]
  },
  {
   "cell_type": "code",
   "execution_count": 34,
   "id": "0e2c7bd2",
   "metadata": {},
   "outputs": [
    {
     "data": {
      "text/html": [
       "<style>#sk-container-id-1 {color: black;background-color: white;}#sk-container-id-1 pre{padding: 0;}#sk-container-id-1 div.sk-toggleable {background-color: white;}#sk-container-id-1 label.sk-toggleable__label {cursor: pointer;display: block;width: 100%;margin-bottom: 0;padding: 0.3em;box-sizing: border-box;text-align: center;}#sk-container-id-1 label.sk-toggleable__label-arrow:before {content: \"▸\";float: left;margin-right: 0.25em;color: #696969;}#sk-container-id-1 label.sk-toggleable__label-arrow:hover:before {color: black;}#sk-container-id-1 div.sk-estimator:hover label.sk-toggleable__label-arrow:before {color: black;}#sk-container-id-1 div.sk-toggleable__content {max-height: 0;max-width: 0;overflow: hidden;text-align: left;background-color: #f0f8ff;}#sk-container-id-1 div.sk-toggleable__content pre {margin: 0.2em;color: black;border-radius: 0.25em;background-color: #f0f8ff;}#sk-container-id-1 input.sk-toggleable__control:checked~div.sk-toggleable__content {max-height: 200px;max-width: 100%;overflow: auto;}#sk-container-id-1 input.sk-toggleable__control:checked~label.sk-toggleable__label-arrow:before {content: \"▾\";}#sk-container-id-1 div.sk-estimator input.sk-toggleable__control:checked~label.sk-toggleable__label {background-color: #d4ebff;}#sk-container-id-1 div.sk-label input.sk-toggleable__control:checked~label.sk-toggleable__label {background-color: #d4ebff;}#sk-container-id-1 input.sk-hidden--visually {border: 0;clip: rect(1px 1px 1px 1px);clip: rect(1px, 1px, 1px, 1px);height: 1px;margin: -1px;overflow: hidden;padding: 0;position: absolute;width: 1px;}#sk-container-id-1 div.sk-estimator {font-family: monospace;background-color: #f0f8ff;border: 1px dotted black;border-radius: 0.25em;box-sizing: border-box;margin-bottom: 0.5em;}#sk-container-id-1 div.sk-estimator:hover {background-color: #d4ebff;}#sk-container-id-1 div.sk-parallel-item::after {content: \"\";width: 100%;border-bottom: 1px solid gray;flex-grow: 1;}#sk-container-id-1 div.sk-label:hover label.sk-toggleable__label {background-color: #d4ebff;}#sk-container-id-1 div.sk-serial::before {content: \"\";position: absolute;border-left: 1px solid gray;box-sizing: border-box;top: 0;bottom: 0;left: 50%;z-index: 0;}#sk-container-id-1 div.sk-serial {display: flex;flex-direction: column;align-items: center;background-color: white;padding-right: 0.2em;padding-left: 0.2em;position: relative;}#sk-container-id-1 div.sk-item {position: relative;z-index: 1;}#sk-container-id-1 div.sk-parallel {display: flex;align-items: stretch;justify-content: center;background-color: white;position: relative;}#sk-container-id-1 div.sk-item::before, #sk-container-id-1 div.sk-parallel-item::before {content: \"\";position: absolute;border-left: 1px solid gray;box-sizing: border-box;top: 0;bottom: 0;left: 50%;z-index: -1;}#sk-container-id-1 div.sk-parallel-item {display: flex;flex-direction: column;z-index: 1;position: relative;background-color: white;}#sk-container-id-1 div.sk-parallel-item:first-child::after {align-self: flex-end;width: 50%;}#sk-container-id-1 div.sk-parallel-item:last-child::after {align-self: flex-start;width: 50%;}#sk-container-id-1 div.sk-parallel-item:only-child::after {width: 0;}#sk-container-id-1 div.sk-dashed-wrapped {border: 1px dashed gray;margin: 0 0.4em 0.5em 0.4em;box-sizing: border-box;padding-bottom: 0.4em;background-color: white;}#sk-container-id-1 div.sk-label label {font-family: monospace;font-weight: bold;display: inline-block;line-height: 1.2em;}#sk-container-id-1 div.sk-label-container {text-align: center;}#sk-container-id-1 div.sk-container {/* jupyter's `normalize.less` sets `[hidden] { display: none; }` but bootstrap.min.css set `[hidden] { display: none !important; }` so we also need the `!important` here to be able to override the default hidden behavior on the sphinx rendered scikit-learn.org. See: https://github.com/scikit-learn/scikit-learn/issues/21755 */display: inline-block !important;position: relative;}#sk-container-id-1 div.sk-text-repr-fallback {display: none;}</style><div id=\"sk-container-id-1\" class=\"sk-top-container\"><div class=\"sk-text-repr-fallback\"><pre>LinearRegression()</pre><b>In a Jupyter environment, please rerun this cell to show the HTML representation or trust the notebook. <br />On GitHub, the HTML representation is unable to render, please try loading this page with nbviewer.org.</b></div><div class=\"sk-container\" hidden><div class=\"sk-item\"><div class=\"sk-estimator sk-toggleable\"><input class=\"sk-toggleable__control sk-hidden--visually\" id=\"sk-estimator-id-1\" type=\"checkbox\" checked><label for=\"sk-estimator-id-1\" class=\"sk-toggleable__label sk-toggleable__label-arrow\">LinearRegression</label><div class=\"sk-toggleable__content\"><pre>LinearRegression()</pre></div></div></div></div></div>"
      ],
      "text/plain": [
       "LinearRegression()"
      ]
     },
     "execution_count": 34,
     "metadata": {},
     "output_type": "execute_result"
    }
   ],
   "source": [
    "from sklearn.linear_model import LinearRegression\n",
    "myLinearRegressionModel = LinearRegression()\n",
    "myLinearRegressionModel.fit(X_train, y_train)"
   ]
  },
  {
   "cell_type": "markdown",
   "id": "a2b95ea3",
   "metadata": {},
   "source": [
    "-------------------------------------------------------------------------------------------------------------------------------\n",
    "Now our Linear Regression model is created and trained. Let's check out the coefficients of the model..."
   ]
  },
  {
   "cell_type": "code",
   "execution_count": 35,
   "id": "3b7803d3",
   "metadata": {},
   "outputs": [
    {
     "name": "stdout",
     "output_type": "stream",
     "text": [
      "The coefficients of the model are: \n",
      " [-4.48731608e+02  4.68417548e+03 -4.68417548e+03 -7.60397132e+01\n",
      "  7.60397132e+01  3.01225343e+02 -6.78069477e+01  5.34636176e+02\n",
      " -9.93607465e+00  1.31322212e+00  1.13689802e+02  1.20929711e+02\n",
      " -3.51370582e+02 -3.32272668e+03 -6.06933640e+02 -7.02545984e+00\n",
      "  2.25347602e+00 -3.18382178e+02  2.17891480e+02] \n",
      "\n"
     ]
    }
   ],
   "source": [
    "print(\"The coefficients of the model are: \\n\", myLinearRegressionModel.coef_, \"\\n\")"
   ]
  },
  {
   "cell_type": "markdown",
   "id": "ed1a40b6",
   "metadata": {},
   "source": [
    "Now let's obtain the models prediction results using the X_test variable that was defined above."
   ]
  },
  {
   "cell_type": "code",
   "execution_count": 36,
   "id": "5a95fb9c",
   "metadata": {},
   "outputs": [],
   "source": [
    "myLinearRegressionModelPrediction = myLinearRegressionModel.predict(X_test)"
   ]
  },
  {
   "cell_type": "markdown",
   "id": "393f4f9c",
   "metadata": {},
   "source": [
    "With the Linear Regression model having made a prediction we can compare the models prediction to the actual correct values (y_test)"
   ]
  },
  {
   "cell_type": "code",
   "execution_count": 37,
   "id": "6d976d39",
   "metadata": {},
   "outputs": [
    {
     "data": {
      "text/plain": [
       "Text(0, 0.5, 'Prediction')"
      ]
     },
     "execution_count": 37,
     "metadata": {},
     "output_type": "execute_result"
    },
    {
     "data": {
      "image/png": "[encoded data removed]",
      "text/plain": [
       "<Figure size 640x480 with 1 Axes>"
      ]
     },
     "metadata": {},
     "output_type": "display_data"
    }
   ],
   "source": [
    "plt.scatter(x = y_test, y = myLinearRegressionModelPrediction, color = \"g\",edgecolor =\"black\")\n",
    "a, b = np.polyfit(y_test, myLinearRegressionModelPrediction, 1)\n",
    "plt.plot(y_test, a*y_test+b, color =\"black\")  \n",
    "plt.xlabel(\"Y_TEST\")\n",
    "plt.ylabel(\"Prediction\")"
   ]
  },
  {
   "cell_type": "markdown",
   "id": "de07f92e",
   "metadata": {},
   "source": [
    "The points being around the black line (line of best fit) in the plot above means the predictions were fairly close. The closer the points to the line the better the prediction. \n",
    "\n",
    "-------------------------------------------------------------------------------------------------------------------------------"
   ]
  },
  {
   "cell_type": "markdown",
   "id": "5f24b3d0",
   "metadata": {},
   "source": [
    "Next let's plot a histogram showcasing the difference betweeen the prediction models guesses (myLinearRegressionModelPrediction) and the correct price (y_test)"
   ]
  },
  {
   "cell_type": "code",
   "execution_count": 38,
   "id": "ef08ed59",
   "metadata": {},
   "outputs": [
    {
     "data": {
      "text/plain": [
       "<Axes: xlabel='price', ylabel='Count'>"
      ]
     },
     "execution_count": 38,
     "metadata": {},
     "output_type": "execute_result"
    },
    {
     "data": {
      "image/png": "[encoded data removed]",
      "text/plain": [
       "<Figure size 640x480 with 1 Axes>"
      ]
     },
     "metadata": {},
     "output_type": "display_data"
    }
   ],
   "source": [
    "sns.histplot(y_test - myLinearRegressionModelPrediction,color = \"g\", bins = 50, kde=True,linewidth = 1,edgecolor = \"black\",alpha = 0.5)"
   ]
  },
  {
   "cell_type": "markdown",
   "id": "19e720fd",
   "metadata": {},
   "source": [
    "The histogram above shows how far off each prediction was (y_test - myLinearRegressionModelPrecition). This plot tells us that the majority of the predictions were off by around +4000 to  around -4000 USD. \n",
    "\n",
    "-------------------------------------------------------------------------------------------------------------------------------"
   ]
  },
  {
   "cell_type": "markdown",
   "id": "d3acfb33",
   "metadata": {},
   "source": [
    "Let's take a deeper look at what is being described in the histogram above by showing the MAE,MSE, and RMSE."
   ]
  },
  {
   "cell_type": "code",
   "execution_count": 39,
   "id": "5c9b8976",
   "metadata": {},
   "outputs": [
    {
     "name": "stdout",
     "output_type": "stream",
     "text": [
      "Mean Absolute Error (MAE):  2524.5528538876874\n",
      "Mean Squared Error (MSE):  13410691.799883734\n",
      "Root Mean Squared Error (RMSE):  3662.0611409264775\n"
     ]
    }
   ],
   "source": [
    "from sklearn import metrics\n",
    "import math\n",
    "\n",
    "print(\"Mean Absolute Error (MAE): \", metrics.mean_absolute_error(y_test, myLinearRegressionModelPrediction))\n",
    "print(\"Mean Squared Error (MSE): \", metrics.mean_squared_error(y_test, myLinearRegressionModelPrediction))\n",
    "print(\"Root Mean Squared Error (RMSE): \", math.sqrt(metrics.mean_squared_error(y_test, myLinearRegressionModelPrediction)))"
   ]
  },
  {
   "cell_type": "markdown",
   "id": "bbe01c6b",
   "metadata": {},
   "source": [
    "Taking at look at the Root Mean Sqaured Error (RMSE) it gives us a value of around 3500-4500, which when looking at the histogram above makes sense because these two values mean the same thing. The RMSE value represents how off a prediction was ON AVERAGE. In this case it means that a prediction of a vehicles price (on average) could be off by around $3,500-$4,500 USD.\n",
    "\n",
    "-------------------------------------------------------------------------------------------------------------------------------"
   ]
  },
  {
   "cell_type": "markdown",
   "id": "97581f42",
   "metadata": {},
   "source": [
    "### ---------------USING THE VEHICLE PRICE PREDICTION MODEL---------------"
   ]
  },
  {
   "cell_type": "markdown",
   "id": "005d2b7d",
   "metadata": {},
   "source": [
    "How to use...\n",
    "\n",
    "    1. Run the cell below and answer either Y/N to whether you want to the use the prediction model. Press ENTER when you've\n",
    "        entered either Y/N\n",
    "    2. Now run the next cell and input your data using the SelectBoxes,Sliders,etc. (ONLY RUN THIS CELL ONCE)\n",
    "        2a. You may also type in your values if you need to by clicking the number next to a slider and inputting a number.\n",
    "    3. When all of your data has been inputted correctly, run the NEXT cell to recieve your vehicles price prediction. \n",
    "    \n",
    "    "
   ]
  },
  {
   "cell_type": "code",
   "execution_count": 40,
   "id": "aa25e12b",
   "metadata": {},
   "outputs": [
    {
     "name": "stdout",
     "output_type": "stream",
     "text": [
      "Do you wish to use the prediction model to predict the price of a vehicle? (Y/N)Y\n"
     ]
    }
   ],
   "source": [
    "userInput = str(input(\"Do you wish to use the prediction model to predict the price of a vehicle? (Y/N)\"))"
   ]
  },
  {
   "cell_type": "code",
   "execution_count": 41,
   "id": "eec8d125",
   "metadata": {},
   "outputs": [
    {
     "name": "stdout",
     "output_type": "stream",
     "text": [
      "Excellent! Please following along with the data input process in order to get your predicted vehicle price from the model.\n",
      "\n"
     ]
    },
    {
     "data": {
      "application/vnd.jupyter.widget-view+json": {
       "model_id": "74dc65b9730f487faa3a0c679df06b06",
       "version_major": 2,
       "version_minor": 0
      },
      "text/plain": [
       "Dropdown(description='How many DOORS does the vehicle have?', layout=Layout(width='500px'), options=('2', '4')…"
      ]
     },
     "metadata": {},
     "output_type": "display_data"
    },
    {
     "data": {
      "application/vnd.jupyter.widget-view+json": {
       "model_id": "4d7cc6df1b864f44b6720e72ba65b14b",
       "version_major": 2,
       "version_minor": 0
      },
      "text/plain": [
       "Select(description='What type of GAS does the vehicle use?', layout=Layout(width='500px'), options=('Diesel', …"
      ]
     },
     "metadata": {},
     "output_type": "display_data"
    },
    {
     "data": {
      "application/vnd.jupyter.widget-view+json": {
       "model_id": "131b19b6df104302abb9b423d780c94d",
       "version_major": 2,
       "version_minor": 0
      },
      "text/plain": [
       "Select(description='What type of ASPIRATION does the vehicle use?', layout=Layout(width='500px'), options=('St…"
      ]
     },
     "metadata": {},
     "output_type": "display_data"
    },
    {
     "data": {
      "application/vnd.jupyter.widget-view+json": {
       "model_id": "7f3ef557fb81418984fa8d8e7b6f30ec",
       "version_major": 2,
       "version_minor": 0
      },
      "text/plain": [
       "FloatSlider(value=88.0, description=\"What's the DISTANCE between the front and rear wheels?\", layout=Layout(wi…"
      ]
     },
     "metadata": {},
     "output_type": "display_data"
    },
    {
     "data": {
      "application/vnd.jupyter.widget-view+json": {
       "model_id": "102513f389a04df082ff84df135d39a0",
       "version_major": 2,
       "version_minor": 0
      },
      "text/plain": [
       "FloatSlider(value=186.0, description=\"What's the CARS LENGTH?\", layout=Layout(width='500px'), max=190.0, min=1…"
      ]
     },
     "metadata": {},
     "output_type": "display_data"
    },
    {
     "data": {
      "application/vnd.jupyter.widget-view+json": {
       "model_id": "c43c0fbae3334bdfb5b2385c87ac14bc",
       "version_major": 2,
       "version_minor": 0
      },
      "text/plain": [
       "FloatSlider(value=60.0, description=\"What's the CARS WIDTH?\", layout=Layout(width='500px'), max=70.0, min=60.0…"
      ]
     },
     "metadata": {},
     "output_type": "display_data"
    },
    {
     "data": {
      "application/vnd.jupyter.widget-view+json": {
       "model_id": "6d7fc8b71c374832871ae1b76bf2a2e6",
       "version_major": 2,
       "version_minor": 0
      },
      "text/plain": [
       "FloatSlider(value=45.0, description=\"What's the CARS HEIGHT?\", layout=Layout(width='500px'), max=57.0, min=45.…"
      ]
     },
     "metadata": {},
     "output_type": "display_data"
    },
    {
     "data": {
      "application/vnd.jupyter.widget-view+json": {
       "model_id": "083316ffb1b54d12b400ce0e71e73720",
       "version_major": 2,
       "version_minor": 0
      },
      "text/plain": [
       "FloatSlider(value=2000.0, description=\"What's the CARS WEIGHT?\", layout=Layout(width='500px'), max=4000.0, min…"
      ]
     },
     "metadata": {},
     "output_type": "display_data"
    },
    {
     "data": {
      "application/vnd.jupyter.widget-view+json": {
       "model_id": "86c297b2b595475595073083eeab9be8",
       "version_major": 2,
       "version_minor": 0
      },
      "text/plain": [
       "IntSlider(value=2, description='How many CYLINDERS does the vehicle have?', layout=Layout(width='500px'), max=…"
      ]
     },
     "metadata": {},
     "output_type": "display_data"
    },
    {
     "data": {
      "application/vnd.jupyter.widget-view+json": {
       "model_id": "9f04168f458d42a9a7b9980e3b29c7f3",
       "version_major": 2,
       "version_minor": 0
      },
      "text/plain": [
       "IntSlider(value=70, description='What is the SIZE of the engine?', layout=Layout(width='500px'), max=300, min=…"
      ]
     },
     "metadata": {},
     "output_type": "display_data"
    },
    {
     "data": {
      "application/vnd.jupyter.widget-view+json": {
       "model_id": "ae3a077a8dec4106b8285d6951892024",
       "version_major": 2,
       "version_minor": 0
      },
      "text/plain": [
       "FloatSlider(value=2.0, description='What is the BORE RATIO of the vehicle?', layout=Layout(width='500px'), max…"
      ]
     },
     "metadata": {},
     "output_type": "display_data"
    },
    {
     "data": {
      "application/vnd.jupyter.widget-view+json": {
       "model_id": "050ca2406c734548a068291df7b56974",
       "version_major": 2,
       "version_minor": 0
      },
      "text/plain": [
       "FloatSlider(value=2.0, description='What is the STROKE VALUE of the vehicle?', layout=Layout(width='500px'), m…"
      ]
     },
     "metadata": {},
     "output_type": "display_data"
    },
    {
     "data": {
      "application/vnd.jupyter.widget-view+json": {
       "model_id": "e7601107b3f44112b8402e4a45d2ccd5",
       "version_major": 2,
       "version_minor": 0
      },
      "text/plain": [
       "FloatSlider(value=7.0, description='What is the COMPRESSION RATIO of the vehicle?', layout=Layout(width='500px…"
      ]
     },
     "metadata": {},
     "output_type": "display_data"
    },
    {
     "data": {
      "application/vnd.jupyter.widget-view+json": {
       "model_id": "c26ae6f920e74c3d960a87ea19c86bfe",
       "version_major": 2,
       "version_minor": 0
      },
      "text/plain": [
       "IntSlider(value=50, description='What is the HORSEPOWER of the vehicle?', layout=Layout(width='500px'), max=21…"
      ]
     },
     "metadata": {},
     "output_type": "display_data"
    },
    {
     "data": {
      "application/vnd.jupyter.widget-view+json": {
       "model_id": "96059e56b4f0438a96ff4144936bc09d",
       "version_major": 2,
       "version_minor": 0
      },
      "text/plain": [
       "IntSlider(value=4000, description='What is the PEAK RPM of the vehicle?', layout=Layout(width='500px'), max=70…"
      ]
     },
     "metadata": {},
     "output_type": "display_data"
    },
    {
     "data": {
      "application/vnd.jupyter.widget-view+json": {
       "model_id": "338434bb805e4cccb3cfecf08c5d39ff",
       "version_major": 2,
       "version_minor": 0
      },
      "text/plain": [
       "IntSlider(value=12, description='What is the MPG (MILES PER GALLON) in CITIES?', layout=Layout(width='500px'),…"
      ]
     },
     "metadata": {},
     "output_type": "display_data"
    },
    {
     "data": {
      "application/vnd.jupyter.widget-view+json": {
       "model_id": "851d36b48927492abd2ac7e817e0047c",
       "version_major": 2,
       "version_minor": 0
      },
      "text/plain": [
       "IntSlider(value=15, description='What is the MPG (MILES PER GALLON) on HIGHWAYS', layout=Layout(width='500px')…"
      ]
     },
     "metadata": {},
     "output_type": "display_data"
    }
   ],
   "source": [
    "from ipywidgets import Layout\n",
    "\n",
    "if (userInput[0] == \"Y\" or userInput[0] == \"y\"):\n",
    "    \n",
    "    print(\"Excellent! Please following along with the data input process in order to get your predicted vehicle price from the model.\\n\")\n",
    "    \n",
    "    userDoorNumber = widgets.Dropdown(options=[\"2\", \"4\"], value=\"2\", layout=Layout(width='500px'), description= \"How many DOORS does the vehicle have?\", style={'description_width': 'initial'})\n",
    "    display(userDoorNumber)\n",
    "    \n",
    "    userGasType = widgets.Select(options=[\"Diesel\", \"Gas\"],value=\"Diesel\", layout=Layout(width='500px'), description=\"What type of GAS does the vehicle use?\", style={'description_width': 'initial'})\n",
    "    display(userGasType)\n",
    "    \n",
    "    if(userGasType.value.lower() == \"diesel\"):\n",
    "        diesel = 1\n",
    "        gas = 0\n",
    "    elif (userGasType.value.lower() == \"gas\"):\n",
    "        gas = 0\n",
    "        diesel = 1\n",
    "    \n",
    "    userAspirationType = widgets.Select(options=[\"Standard\", \"Turbo\"],value=\"Standard\", layout=Layout(width='500px'), description=\"What type of ASPIRATION does the vehicle use?\", style={'description_width': 'initial'})\n",
    "    display(userAspirationType)\n",
    "    \n",
    "    if(userAspirationType.value.lower() == \"standard\"):\n",
    "        std = 1\n",
    "        turbo = 0\n",
    "    elif (userAspirationType.value.lower() == \"turbo\"):\n",
    "        std = 0\n",
    "        turbo = 1\n",
    "    \n",
    "    userWheelBase = widgets.FloatSlider(min = 88.00, max = 110.00, layout=Layout(width='500px'), description = \"What's the DISTANCE between the front and rear wheels?\", style={'description_width': 'initial'})\n",
    "    display(userWheelBase)\n",
    "    \n",
    "    userCarLength= widgets.FloatSlider(min = 186.00, max = 190.00, layout=Layout(width='500px'), description = \"What's the CARS LENGTH?\", style={'description_width': 'initial'})\n",
    "    display(userCarLength)\n",
    "    \n",
    "    userCarWidth= widgets.FloatSlider(min = 60.00, max = 70.00, layout=Layout(width='500px'), description = \"What's the CARS WIDTH?\", style={'description_width': 'initial'})\n",
    "    display(userCarWidth)\n",
    "    \n",
    "    userCarHeight = widgets.FloatSlider(min = 45.00, max = 57.00, layout=Layout(width='500px'), description = \"What's the CARS HEIGHT?\", style={'description_width': 'initial'})\n",
    "    display(userCarHeight)\n",
    "    \n",
    "    userCarWeight = widgets.FloatSlider(min = 2000.00, max = 4000.00, layout=Layout(width='500px'), description = \"What's the CARS WEIGHT?\", style={'description_width': 'initial'} )\n",
    "    display(userCarWeight)\n",
    "    \n",
    "    userCarCylinder = widgets.IntSlider(min = 2, max = 12, layout=Layout(width='500px'), description = \"How many CYLINDERS does the vehicle have?\", style={'description_width': 'initial'})\n",
    "    display(userCarCylinder)\n",
    "    \n",
    "    userCarEngineSize = widgets.IntSlider(min = 70, max = 300, layout=Layout(width='500px'), description = \"What is the SIZE of the engine?\", style={'description_width': 'initial'})\n",
    "    display(userCarEngineSize)\n",
    "    \n",
    "    userCarBoreRatio = widgets.FloatSlider(min = 2.00, max = 4.00, layout=Layout(width='500px'), description = \"What is the BORE RATIO of the vehicle?\", style={'description_width': 'initial'})\n",
    "    display(userCarBoreRatio)\n",
    "    \n",
    "    userCarStroke = widgets.FloatSlider(min = 2.00, max = 4.50, layout=Layout(width='500px'), description = \"What is the STROKE VALUE of the vehicle?\", style={'description_width': 'initial'})\n",
    "    display(userCarStroke)\n",
    "    \n",
    "    userCarCompressionRatio = widgets.FloatSlider(min = 7.00, max = 24.00, layout=Layout(width='500px'), description = \"What is the COMPRESSION RATIO of the vehicle?\", style={'description_width': 'initial'})\n",
    "    display(userCarCompressionRatio)\n",
    "    \n",
    "    userCarHorsepower = widgets.IntSlider(min = 50, max = 210, layout=Layout(width='500px'), description = \"What is the HORSEPOWER of the vehicle?\", style={'description_width': 'initial'})\n",
    "    display(userCarHorsepower)\n",
    "    \n",
    "    userCarPeakRPM = widgets.IntSlider(min = 4000, max = 7000, layout=Layout(width='500px'), description = \"What is the PEAK RPM of the vehicle?\", style={'description_width': 'initial'})\n",
    "    display(userCarPeakRPM)\n",
    "    \n",
    "    userCarMPGCity = widgets.IntSlider(min = 12, max = 50, layout=Layout(width='500px'), description = \"What is the MPG (MILES PER GALLON) in CITIES?\", style={'description_width': 'initial'})\n",
    "    display(userCarMPGCity)\n",
    "    \n",
    "    userCarMPGHighway = widgets.IntSlider(min = 15, max = 60, layout=Layout(width='500px'), description = \"What is the MPG (MILES PER GALLON) on HIGHWAYS\", style={'description_width': 'initial'})\n",
    "    display(userCarMPGHighway)\n",
    "    \n",
    "    \n",
    "else: \n",
    "    print(\"User typed No\")"
   ]
  },
  {
   "cell_type": "markdown",
   "id": "687c084e",
   "metadata": {},
   "source": [
    "ONCE ALL OF THE INFORMATION ABOVE IS FILLED, RUN THE CELL BELOW TO RECIEVE YOUR VEHICLES PRICE PREDICTION"
   ]
  },
  {
   "cell_type": "code",
   "execution_count": 42,
   "id": "06476e7b",
   "metadata": {},
   "outputs": [
    {
     "name": "stdout",
     "output_type": "stream",
     "text": [
      "The predicted PRICE of the vehicle given the characteristics told about it is...  [12029.16237003]\n",
      "\n",
      "Remember, this value could be off by as much as  3662.0611409264775 (Root Mean Squared Error (RMSE))\n"
     ]
    },
    {
     "name": "stderr",
     "output_type": "stream",
     "text": [
      "C:\\Users\\Dylan\\anaconda3\\lib\\site-packages\\sklearn\\base.py:420: UserWarning: X does not have valid feature names, but LinearRegression was fitted with feature names\n",
      "  warnings.warn(\n"
     ]
    }
   ],
   "source": [
    "LinearRegressionModelPrediction = myLinearRegressionModel.predict([[int(userDoorNumber.value),diesel,gas,std,turbo,userWheelBase.value,userCarLength.value,userCarWidth.value,userCarHeight.value,userCarWeight.value,userCarCylinder.value,userCarEngineSize.value,userCarBoreRatio.value,userCarStroke.value,userCarCompressionRatio.value,userCarHorsepower.value,userCarPeakRPM.value,userCarMPGCity.value,userCarMPGHighway.value]])\n",
    "print(\"The predicted PRICE of the vehicle given the characteristics told about it is... \", LinearRegressionModelPrediction )\n",
    "print(\"\\nRemember, this value could be off by as much as \", math.sqrt(metrics.mean_squared_error(y_test, myLinearRegressionModelPrediction)), \"(Root Mean Squared Error (RMSE))\")"
   ]
  },
  {
   "cell_type": "code",
   "execution_count": null,
   "id": "5600228b",
   "metadata": {},
   "outputs": [],
   "source": []
  }
 ],
 "metadata": {
  "kernelspec": {
   "display_name": "Python 3 (ipykernel)",
   "language": "python",
   "name": "python3"
  },
  "language_info": {
   "codemirror_mode": {
    "name": "ipython",
    "version": 3
   },
   "file_extension": ".py",
   "mimetype": "text/x-python",
   "name": "python",
   "nbconvert_exporter": "python",
   "pygments_lexer": "ipython3",
   "version": "3.10.9"
  }
 },
 "nbformat": 4,
 "nbformat_minor": 5
}
